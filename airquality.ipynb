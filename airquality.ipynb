{
 "cells": [
  {
   "cell_type": "code",
   "execution_count": 1,
   "metadata": {},
   "outputs": [],
   "source": [
    "#Import librabries\n",
    "import numpy as np \n",
    "import pandas as pd \n",
    "import seaborn as sns\n",
    "import matplotlib.pyplot as plt \n",
    "%matplotlib inline"
   ]
  },
  {
   "cell_type": "code",
   "execution_count": null,
   "metadata": {},
   "outputs": [],
   "source": []
  },
  {
   "cell_type": "code",
   "execution_count": 2,
   "metadata": {},
   "outputs": [
    {
     "name": "stderr",
     "output_type": "stream",
     "text": [
      "C:\\Users\\skt\\AppData\\Local\\Temp\\ipykernel_17692\\2958484664.py:2: DtypeWarning: Columns (0) have mixed types. Specify dtype option on import or set low_memory=False.\n",
      "  data = pd.read_csv('dataset.csv')\n"
     ]
    }
   ],
   "source": [
    "#import dataset (exist in same folder)\n",
    "data = pd.read_csv('dataset.csv')"
   ]
  },
  {
   "cell_type": "code",
   "execution_count": 3,
   "metadata": {},
   "outputs": [
    {
     "data": {
      "text/html": [
       "<div>\n",
       "<style scoped>\n",
       "    .dataframe tbody tr th:only-of-type {\n",
       "        vertical-align: middle;\n",
       "    }\n",
       "\n",
       "    .dataframe tbody tr th {\n",
       "        vertical-align: top;\n",
       "    }\n",
       "\n",
       "    .dataframe thead th {\n",
       "        text-align: right;\n",
       "    }\n",
       "</style>\n",
       "<table border=\"1\" class=\"dataframe\">\n",
       "  <thead>\n",
       "    <tr style=\"text-align: right;\">\n",
       "      <th></th>\n",
       "      <th>stn_code</th>\n",
       "      <th>sampling_date</th>\n",
       "      <th>state</th>\n",
       "      <th>location</th>\n",
       "      <th>agency</th>\n",
       "      <th>type</th>\n",
       "      <th>so2</th>\n",
       "      <th>no2</th>\n",
       "      <th>rspm</th>\n",
       "      <th>spm</th>\n",
       "      <th>location_monitoring_station</th>\n",
       "      <th>pm2_5</th>\n",
       "      <th>date</th>\n",
       "    </tr>\n",
       "  </thead>\n",
       "  <tbody>\n",
       "    <tr>\n",
       "      <th>0</th>\n",
       "      <td>150.0</td>\n",
       "      <td>February - M021990</td>\n",
       "      <td>Andhra Pradesh</td>\n",
       "      <td>Hyderabad</td>\n",
       "      <td>NaN</td>\n",
       "      <td>Residential, Rural and other Areas</td>\n",
       "      <td>4.8</td>\n",
       "      <td>17.4</td>\n",
       "      <td>NaN</td>\n",
       "      <td>NaN</td>\n",
       "      <td>NaN</td>\n",
       "      <td>NaN</td>\n",
       "      <td>2/1/1990</td>\n",
       "    </tr>\n",
       "    <tr>\n",
       "      <th>1</th>\n",
       "      <td>151.0</td>\n",
       "      <td>February - M021990</td>\n",
       "      <td>Andhra Pradesh</td>\n",
       "      <td>Hyderabad</td>\n",
       "      <td>NaN</td>\n",
       "      <td>Industrial Area</td>\n",
       "      <td>3.1</td>\n",
       "      <td>7.0</td>\n",
       "      <td>NaN</td>\n",
       "      <td>NaN</td>\n",
       "      <td>NaN</td>\n",
       "      <td>NaN</td>\n",
       "      <td>2/1/1990</td>\n",
       "    </tr>\n",
       "    <tr>\n",
       "      <th>2</th>\n",
       "      <td>152.0</td>\n",
       "      <td>February - M021990</td>\n",
       "      <td>Andhra Pradesh</td>\n",
       "      <td>Hyderabad</td>\n",
       "      <td>NaN</td>\n",
       "      <td>Residential, Rural and other Areas</td>\n",
       "      <td>6.2</td>\n",
       "      <td>28.5</td>\n",
       "      <td>NaN</td>\n",
       "      <td>NaN</td>\n",
       "      <td>NaN</td>\n",
       "      <td>NaN</td>\n",
       "      <td>2/1/1990</td>\n",
       "    </tr>\n",
       "    <tr>\n",
       "      <th>3</th>\n",
       "      <td>150.0</td>\n",
       "      <td>March - M031990</td>\n",
       "      <td>Andhra Pradesh</td>\n",
       "      <td>Hyderabad</td>\n",
       "      <td>NaN</td>\n",
       "      <td>Residential, Rural and other Areas</td>\n",
       "      <td>6.3</td>\n",
       "      <td>14.7</td>\n",
       "      <td>NaN</td>\n",
       "      <td>NaN</td>\n",
       "      <td>NaN</td>\n",
       "      <td>NaN</td>\n",
       "      <td>3/1/1990</td>\n",
       "    </tr>\n",
       "    <tr>\n",
       "      <th>4</th>\n",
       "      <td>151.0</td>\n",
       "      <td>March - M031990</td>\n",
       "      <td>Andhra Pradesh</td>\n",
       "      <td>Hyderabad</td>\n",
       "      <td>NaN</td>\n",
       "      <td>Industrial Area</td>\n",
       "      <td>4.7</td>\n",
       "      <td>7.5</td>\n",
       "      <td>NaN</td>\n",
       "      <td>NaN</td>\n",
       "      <td>NaN</td>\n",
       "      <td>NaN</td>\n",
       "      <td>3/1/1990</td>\n",
       "    </tr>\n",
       "    <tr>\n",
       "      <th>5</th>\n",
       "      <td>152.0</td>\n",
       "      <td>March - M031990</td>\n",
       "      <td>Andhra Pradesh</td>\n",
       "      <td>Hyderabad</td>\n",
       "      <td>NaN</td>\n",
       "      <td>Residential, Rural and other Areas</td>\n",
       "      <td>6.4</td>\n",
       "      <td>25.7</td>\n",
       "      <td>NaN</td>\n",
       "      <td>NaN</td>\n",
       "      <td>NaN</td>\n",
       "      <td>NaN</td>\n",
       "      <td>3/1/1990</td>\n",
       "    </tr>\n",
       "    <tr>\n",
       "      <th>6</th>\n",
       "      <td>150.0</td>\n",
       "      <td>April - M041990</td>\n",
       "      <td>Andhra Pradesh</td>\n",
       "      <td>Hyderabad</td>\n",
       "      <td>NaN</td>\n",
       "      <td>Residential, Rural and other Areas</td>\n",
       "      <td>5.4</td>\n",
       "      <td>17.1</td>\n",
       "      <td>NaN</td>\n",
       "      <td>NaN</td>\n",
       "      <td>NaN</td>\n",
       "      <td>NaN</td>\n",
       "      <td>4/1/1990</td>\n",
       "    </tr>\n",
       "    <tr>\n",
       "      <th>7</th>\n",
       "      <td>151.0</td>\n",
       "      <td>April - M041990</td>\n",
       "      <td>Andhra Pradesh</td>\n",
       "      <td>Hyderabad</td>\n",
       "      <td>NaN</td>\n",
       "      <td>Industrial Area</td>\n",
       "      <td>4.7</td>\n",
       "      <td>8.7</td>\n",
       "      <td>NaN</td>\n",
       "      <td>NaN</td>\n",
       "      <td>NaN</td>\n",
       "      <td>NaN</td>\n",
       "      <td>4/1/1990</td>\n",
       "    </tr>\n",
       "    <tr>\n",
       "      <th>8</th>\n",
       "      <td>152.0</td>\n",
       "      <td>April - M041990</td>\n",
       "      <td>Andhra Pradesh</td>\n",
       "      <td>Hyderabad</td>\n",
       "      <td>NaN</td>\n",
       "      <td>Residential, Rural and other Areas</td>\n",
       "      <td>4.2</td>\n",
       "      <td>23.0</td>\n",
       "      <td>NaN</td>\n",
       "      <td>NaN</td>\n",
       "      <td>NaN</td>\n",
       "      <td>NaN</td>\n",
       "      <td>4/1/1990</td>\n",
       "    </tr>\n",
       "    <tr>\n",
       "      <th>9</th>\n",
       "      <td>151.0</td>\n",
       "      <td>May - M051990</td>\n",
       "      <td>Andhra Pradesh</td>\n",
       "      <td>Hyderabad</td>\n",
       "      <td>NaN</td>\n",
       "      <td>Industrial Area</td>\n",
       "      <td>4.0</td>\n",
       "      <td>8.9</td>\n",
       "      <td>NaN</td>\n",
       "      <td>NaN</td>\n",
       "      <td>NaN</td>\n",
       "      <td>NaN</td>\n",
       "      <td>5/1/1990</td>\n",
       "    </tr>\n",
       "    <tr>\n",
       "      <th>10</th>\n",
       "      <td>152.0</td>\n",
       "      <td>May - M051990</td>\n",
       "      <td>Andhra Pradesh</td>\n",
       "      <td>Hyderabad</td>\n",
       "      <td>NaN</td>\n",
       "      <td>Residential, Rural and other Areas</td>\n",
       "      <td>3.6</td>\n",
       "      <td>18.6</td>\n",
       "      <td>NaN</td>\n",
       "      <td>NaN</td>\n",
       "      <td>NaN</td>\n",
       "      <td>NaN</td>\n",
       "      <td>5/1/1990</td>\n",
       "    </tr>\n",
       "    <tr>\n",
       "      <th>11</th>\n",
       "      <td>150.0</td>\n",
       "      <td>June - M061990</td>\n",
       "      <td>Andhra Pradesh</td>\n",
       "      <td>Hyderabad</td>\n",
       "      <td>NaN</td>\n",
       "      <td>Residential, Rural and other Areas</td>\n",
       "      <td>3.9</td>\n",
       "      <td>14.1</td>\n",
       "      <td>NaN</td>\n",
       "      <td>133.0</td>\n",
       "      <td>NaN</td>\n",
       "      <td>NaN</td>\n",
       "      <td>6/1/1990</td>\n",
       "    </tr>\n",
       "    <tr>\n",
       "      <th>12</th>\n",
       "      <td>151.0</td>\n",
       "      <td>June - M061990</td>\n",
       "      <td>Andhra Pradesh</td>\n",
       "      <td>Hyderabad</td>\n",
       "      <td>NaN</td>\n",
       "      <td>Industrial Area</td>\n",
       "      <td>5.6</td>\n",
       "      <td>11.8</td>\n",
       "      <td>NaN</td>\n",
       "      <td>82.0</td>\n",
       "      <td>NaN</td>\n",
       "      <td>NaN</td>\n",
       "      <td>6/1/1990</td>\n",
       "    </tr>\n",
       "    <tr>\n",
       "      <th>13</th>\n",
       "      <td>152.0</td>\n",
       "      <td>June - M061990</td>\n",
       "      <td>Andhra Pradesh</td>\n",
       "      <td>Hyderabad</td>\n",
       "      <td>NaN</td>\n",
       "      <td>Residential, Rural and other Areas</td>\n",
       "      <td>3.3</td>\n",
       "      <td>19.3</td>\n",
       "      <td>NaN</td>\n",
       "      <td>111.0</td>\n",
       "      <td>NaN</td>\n",
       "      <td>NaN</td>\n",
       "      <td>6/1/1990</td>\n",
       "    </tr>\n",
       "    <tr>\n",
       "      <th>14</th>\n",
       "      <td>150.0</td>\n",
       "      <td>July - M071990</td>\n",
       "      <td>Andhra Pradesh</td>\n",
       "      <td>Hyderabad</td>\n",
       "      <td>NaN</td>\n",
       "      <td>Residential, Rural and other Areas</td>\n",
       "      <td>3.9</td>\n",
       "      <td>8.2</td>\n",
       "      <td>NaN</td>\n",
       "      <td>118.0</td>\n",
       "      <td>NaN</td>\n",
       "      <td>NaN</td>\n",
       "      <td>7/1/1990</td>\n",
       "    </tr>\n",
       "  </tbody>\n",
       "</table>\n",
       "</div>"
      ],
      "text/plain": [
       "   stn_code       sampling_date           state   location agency  \\\n",
       "0     150.0  February - M021990  Andhra Pradesh  Hyderabad    NaN   \n",
       "1     151.0  February - M021990  Andhra Pradesh  Hyderabad    NaN   \n",
       "2     152.0  February - M021990  Andhra Pradesh  Hyderabad    NaN   \n",
       "3     150.0     March - M031990  Andhra Pradesh  Hyderabad    NaN   \n",
       "4     151.0     March - M031990  Andhra Pradesh  Hyderabad    NaN   \n",
       "5     152.0     March - M031990  Andhra Pradesh  Hyderabad    NaN   \n",
       "6     150.0     April - M041990  Andhra Pradesh  Hyderabad    NaN   \n",
       "7     151.0     April - M041990  Andhra Pradesh  Hyderabad    NaN   \n",
       "8     152.0     April - M041990  Andhra Pradesh  Hyderabad    NaN   \n",
       "9     151.0       May - M051990  Andhra Pradesh  Hyderabad    NaN   \n",
       "10    152.0       May - M051990  Andhra Pradesh  Hyderabad    NaN   \n",
       "11    150.0      June - M061990  Andhra Pradesh  Hyderabad    NaN   \n",
       "12    151.0      June - M061990  Andhra Pradesh  Hyderabad    NaN   \n",
       "13    152.0      June - M061990  Andhra Pradesh  Hyderabad    NaN   \n",
       "14    150.0      July - M071990  Andhra Pradesh  Hyderabad    NaN   \n",
       "\n",
       "                                  type  so2   no2  rspm    spm  \\\n",
       "0   Residential, Rural and other Areas  4.8  17.4   NaN    NaN   \n",
       "1                      Industrial Area  3.1   7.0   NaN    NaN   \n",
       "2   Residential, Rural and other Areas  6.2  28.5   NaN    NaN   \n",
       "3   Residential, Rural and other Areas  6.3  14.7   NaN    NaN   \n",
       "4                      Industrial Area  4.7   7.5   NaN    NaN   \n",
       "5   Residential, Rural and other Areas  6.4  25.7   NaN    NaN   \n",
       "6   Residential, Rural and other Areas  5.4  17.1   NaN    NaN   \n",
       "7                      Industrial Area  4.7   8.7   NaN    NaN   \n",
       "8   Residential, Rural and other Areas  4.2  23.0   NaN    NaN   \n",
       "9                      Industrial Area  4.0   8.9   NaN    NaN   \n",
       "10  Residential, Rural and other Areas  3.6  18.6   NaN    NaN   \n",
       "11  Residential, Rural and other Areas  3.9  14.1   NaN  133.0   \n",
       "12                     Industrial Area  5.6  11.8   NaN   82.0   \n",
       "13  Residential, Rural and other Areas  3.3  19.3   NaN  111.0   \n",
       "14  Residential, Rural and other Areas  3.9   8.2   NaN  118.0   \n",
       "\n",
       "   location_monitoring_station  pm2_5      date  \n",
       "0                          NaN    NaN  2/1/1990  \n",
       "1                          NaN    NaN  2/1/1990  \n",
       "2                          NaN    NaN  2/1/1990  \n",
       "3                          NaN    NaN  3/1/1990  \n",
       "4                          NaN    NaN  3/1/1990  \n",
       "5                          NaN    NaN  3/1/1990  \n",
       "6                          NaN    NaN  4/1/1990  \n",
       "7                          NaN    NaN  4/1/1990  \n",
       "8                          NaN    NaN  4/1/1990  \n",
       "9                          NaN    NaN  5/1/1990  \n",
       "10                         NaN    NaN  5/1/1990  \n",
       "11                         NaN    NaN  6/1/1990  \n",
       "12                         NaN    NaN  6/1/1990  \n",
       "13                         NaN    NaN  6/1/1990  \n",
       "14                         NaN    NaN  7/1/1990  "
      ]
     },
     "execution_count": 3,
     "metadata": {},
     "output_type": "execute_result"
    }
   ],
   "source": [
    "data.head(15)"
   ]
  },
  {
   "cell_type": "code",
   "execution_count": 4,
   "metadata": {},
   "outputs": [
    {
     "data": {
      "text/html": [
       "<div>\n",
       "<style scoped>\n",
       "    .dataframe tbody tr th:only-of-type {\n",
       "        vertical-align: middle;\n",
       "    }\n",
       "\n",
       "    .dataframe tbody tr th {\n",
       "        vertical-align: top;\n",
       "    }\n",
       "\n",
       "    .dataframe thead th {\n",
       "        text-align: right;\n",
       "    }\n",
       "</style>\n",
       "<table border=\"1\" class=\"dataframe\">\n",
       "  <thead>\n",
       "    <tr style=\"text-align: right;\">\n",
       "      <th></th>\n",
       "      <th>stn_code</th>\n",
       "      <th>sampling_date</th>\n",
       "      <th>state</th>\n",
       "      <th>location</th>\n",
       "      <th>agency</th>\n",
       "      <th>type</th>\n",
       "      <th>so2</th>\n",
       "      <th>no2</th>\n",
       "      <th>rspm</th>\n",
       "      <th>spm</th>\n",
       "      <th>location_monitoring_station</th>\n",
       "      <th>pm2_5</th>\n",
       "      <th>date</th>\n",
       "    </tr>\n",
       "  </thead>\n",
       "  <tbody>\n",
       "    <tr>\n",
       "      <th>435727</th>\n",
       "      <td>SAMP</td>\n",
       "      <td>20-11-15</td>\n",
       "      <td>West Bengal</td>\n",
       "      <td>ULUBERIA</td>\n",
       "      <td>West Bengal State Pollution Control Board</td>\n",
       "      <td>RIRUO</td>\n",
       "      <td>11.0</td>\n",
       "      <td>34.0</td>\n",
       "      <td>118.0</td>\n",
       "      <td>NaN</td>\n",
       "      <td>Inside Rampal Industries,ULUBERIA</td>\n",
       "      <td>NaN</td>\n",
       "      <td>11/20/2015</td>\n",
       "    </tr>\n",
       "    <tr>\n",
       "      <th>435728</th>\n",
       "      <td>SAMP</td>\n",
       "      <td>26-11-15</td>\n",
       "      <td>West Bengal</td>\n",
       "      <td>ULUBERIA</td>\n",
       "      <td>West Bengal State Pollution Control Board</td>\n",
       "      <td>RIRUO</td>\n",
       "      <td>17.0</td>\n",
       "      <td>43.0</td>\n",
       "      <td>144.0</td>\n",
       "      <td>NaN</td>\n",
       "      <td>Inside Rampal Industries,ULUBERIA</td>\n",
       "      <td>NaN</td>\n",
       "      <td>11/26/2015</td>\n",
       "    </tr>\n",
       "    <tr>\n",
       "      <th>435729</th>\n",
       "      <td>SAMP</td>\n",
       "      <td>29-11-15</td>\n",
       "      <td>West Bengal</td>\n",
       "      <td>ULUBERIA</td>\n",
       "      <td>West Bengal State Pollution Control Board</td>\n",
       "      <td>RIRUO</td>\n",
       "      <td>19.0</td>\n",
       "      <td>49.0</td>\n",
       "      <td>140.0</td>\n",
       "      <td>NaN</td>\n",
       "      <td>Inside Rampal Industries,ULUBERIA</td>\n",
       "      <td>NaN</td>\n",
       "      <td>11/29/2015</td>\n",
       "    </tr>\n",
       "    <tr>\n",
       "      <th>435730</th>\n",
       "      <td>SAMP</td>\n",
       "      <td>3/12/2015</td>\n",
       "      <td>West Bengal</td>\n",
       "      <td>ULUBERIA</td>\n",
       "      <td>West Bengal State Pollution Control Board</td>\n",
       "      <td>RIRUO</td>\n",
       "      <td>18.0</td>\n",
       "      <td>41.0</td>\n",
       "      <td>142.0</td>\n",
       "      <td>NaN</td>\n",
       "      <td>Inside Rampal Industries,ULUBERIA</td>\n",
       "      <td>NaN</td>\n",
       "      <td>12/3/2015</td>\n",
       "    </tr>\n",
       "    <tr>\n",
       "      <th>435731</th>\n",
       "      <td>SAMP</td>\n",
       "      <td>6/12/2015</td>\n",
       "      <td>West Bengal</td>\n",
       "      <td>ULUBERIA</td>\n",
       "      <td>West Bengal State Pollution Control Board</td>\n",
       "      <td>RIRUO</td>\n",
       "      <td>22.0</td>\n",
       "      <td>58.0</td>\n",
       "      <td>155.0</td>\n",
       "      <td>NaN</td>\n",
       "      <td>Inside Rampal Industries,ULUBERIA</td>\n",
       "      <td>NaN</td>\n",
       "      <td>12/6/2015</td>\n",
       "    </tr>\n",
       "    <tr>\n",
       "      <th>435732</th>\n",
       "      <td>SAMP</td>\n",
       "      <td>9/12/2015</td>\n",
       "      <td>West Bengal</td>\n",
       "      <td>ULUBERIA</td>\n",
       "      <td>West Bengal State Pollution Control Board</td>\n",
       "      <td>RIRUO</td>\n",
       "      <td>22.0</td>\n",
       "      <td>50.0</td>\n",
       "      <td>145.0</td>\n",
       "      <td>NaN</td>\n",
       "      <td>Inside Rampal Industries,ULUBERIA</td>\n",
       "      <td>NaN</td>\n",
       "      <td>12/9/2015</td>\n",
       "    </tr>\n",
       "    <tr>\n",
       "      <th>435733</th>\n",
       "      <td>SAMP</td>\n",
       "      <td>12/12/2015</td>\n",
       "      <td>West Bengal</td>\n",
       "      <td>ULUBERIA</td>\n",
       "      <td>West Bengal State Pollution Control Board</td>\n",
       "      <td>RIRUO</td>\n",
       "      <td>34.0</td>\n",
       "      <td>61.0</td>\n",
       "      <td>161.0</td>\n",
       "      <td>NaN</td>\n",
       "      <td>Inside Rampal Industries,ULUBERIA</td>\n",
       "      <td>NaN</td>\n",
       "      <td>12/12/2015</td>\n",
       "    </tr>\n",
       "    <tr>\n",
       "      <th>435734</th>\n",
       "      <td>SAMP</td>\n",
       "      <td>15-12-15</td>\n",
       "      <td>West Bengal</td>\n",
       "      <td>ULUBERIA</td>\n",
       "      <td>West Bengal State Pollution Control Board</td>\n",
       "      <td>RIRUO</td>\n",
       "      <td>20.0</td>\n",
       "      <td>44.0</td>\n",
       "      <td>148.0</td>\n",
       "      <td>NaN</td>\n",
       "      <td>Inside Rampal Industries,ULUBERIA</td>\n",
       "      <td>NaN</td>\n",
       "      <td>12/15/2015</td>\n",
       "    </tr>\n",
       "    <tr>\n",
       "      <th>435735</th>\n",
       "      <td>SAMP</td>\n",
       "      <td>18-12-15</td>\n",
       "      <td>West Bengal</td>\n",
       "      <td>ULUBERIA</td>\n",
       "      <td>West Bengal State Pollution Control Board</td>\n",
       "      <td>RIRUO</td>\n",
       "      <td>17.0</td>\n",
       "      <td>44.0</td>\n",
       "      <td>131.0</td>\n",
       "      <td>NaN</td>\n",
       "      <td>Inside Rampal Industries,ULUBERIA</td>\n",
       "      <td>NaN</td>\n",
       "      <td>12/18/2015</td>\n",
       "    </tr>\n",
       "    <tr>\n",
       "      <th>435736</th>\n",
       "      <td>SAMP</td>\n",
       "      <td>21-12-15</td>\n",
       "      <td>West Bengal</td>\n",
       "      <td>ULUBERIA</td>\n",
       "      <td>West Bengal State Pollution Control Board</td>\n",
       "      <td>RIRUO</td>\n",
       "      <td>18.0</td>\n",
       "      <td>45.0</td>\n",
       "      <td>140.0</td>\n",
       "      <td>NaN</td>\n",
       "      <td>Inside Rampal Industries,ULUBERIA</td>\n",
       "      <td>NaN</td>\n",
       "      <td>12/21/2015</td>\n",
       "    </tr>\n",
       "    <tr>\n",
       "      <th>435737</th>\n",
       "      <td>SAMP</td>\n",
       "      <td>24-12-15</td>\n",
       "      <td>West Bengal</td>\n",
       "      <td>ULUBERIA</td>\n",
       "      <td>West Bengal State Pollution Control Board</td>\n",
       "      <td>RIRUO</td>\n",
       "      <td>22.0</td>\n",
       "      <td>50.0</td>\n",
       "      <td>143.0</td>\n",
       "      <td>NaN</td>\n",
       "      <td>Inside Rampal Industries,ULUBERIA</td>\n",
       "      <td>NaN</td>\n",
       "      <td>12/24/2015</td>\n",
       "    </tr>\n",
       "    <tr>\n",
       "      <th>435738</th>\n",
       "      <td>SAMP</td>\n",
       "      <td>29-12-15</td>\n",
       "      <td>West Bengal</td>\n",
       "      <td>ULUBERIA</td>\n",
       "      <td>West Bengal State Pollution Control Board</td>\n",
       "      <td>RIRUO</td>\n",
       "      <td>20.0</td>\n",
       "      <td>46.0</td>\n",
       "      <td>171.0</td>\n",
       "      <td>NaN</td>\n",
       "      <td>Inside Rampal Industries,ULUBERIA</td>\n",
       "      <td>NaN</td>\n",
       "      <td>12/29/2015</td>\n",
       "    </tr>\n",
       "    <tr>\n",
       "      <th>435739</th>\n",
       "      <td>NaN</td>\n",
       "      <td>NaN</td>\n",
       "      <td>andaman-and-nicobar-islands</td>\n",
       "      <td>NaN</td>\n",
       "      <td>NaN</td>\n",
       "      <td>NaN</td>\n",
       "      <td>NaN</td>\n",
       "      <td>NaN</td>\n",
       "      <td>NaN</td>\n",
       "      <td>NaN</td>\n",
       "      <td>NaN</td>\n",
       "      <td>NaN</td>\n",
       "      <td>NaN</td>\n",
       "    </tr>\n",
       "    <tr>\n",
       "      <th>435740</th>\n",
       "      <td>NaN</td>\n",
       "      <td>NaN</td>\n",
       "      <td>Lakshadweep</td>\n",
       "      <td>NaN</td>\n",
       "      <td>NaN</td>\n",
       "      <td>NaN</td>\n",
       "      <td>NaN</td>\n",
       "      <td>NaN</td>\n",
       "      <td>NaN</td>\n",
       "      <td>NaN</td>\n",
       "      <td>NaN</td>\n",
       "      <td>NaN</td>\n",
       "      <td>NaN</td>\n",
       "    </tr>\n",
       "    <tr>\n",
       "      <th>435741</th>\n",
       "      <td>NaN</td>\n",
       "      <td>NaN</td>\n",
       "      <td>Tripura</td>\n",
       "      <td>NaN</td>\n",
       "      <td>NaN</td>\n",
       "      <td>NaN</td>\n",
       "      <td>NaN</td>\n",
       "      <td>NaN</td>\n",
       "      <td>NaN</td>\n",
       "      <td>NaN</td>\n",
       "      <td>NaN</td>\n",
       "      <td>NaN</td>\n",
       "      <td>NaN</td>\n",
       "    </tr>\n",
       "  </tbody>\n",
       "</table>\n",
       "</div>"
      ],
      "text/plain": [
       "       stn_code sampling_date                        state  location  \\\n",
       "435727     SAMP      20-11-15                  West Bengal  ULUBERIA   \n",
       "435728     SAMP      26-11-15                  West Bengal  ULUBERIA   \n",
       "435729     SAMP      29-11-15                  West Bengal  ULUBERIA   \n",
       "435730     SAMP     3/12/2015                  West Bengal  ULUBERIA   \n",
       "435731     SAMP     6/12/2015                  West Bengal  ULUBERIA   \n",
       "435732     SAMP     9/12/2015                  West Bengal  ULUBERIA   \n",
       "435733     SAMP    12/12/2015                  West Bengal  ULUBERIA   \n",
       "435734     SAMP      15-12-15                  West Bengal  ULUBERIA   \n",
       "435735     SAMP      18-12-15                  West Bengal  ULUBERIA   \n",
       "435736     SAMP      21-12-15                  West Bengal  ULUBERIA   \n",
       "435737     SAMP      24-12-15                  West Bengal  ULUBERIA   \n",
       "435738     SAMP      29-12-15                  West Bengal  ULUBERIA   \n",
       "435739      NaN           NaN  andaman-and-nicobar-islands       NaN   \n",
       "435740      NaN           NaN                  Lakshadweep       NaN   \n",
       "435741      NaN           NaN                      Tripura       NaN   \n",
       "\n",
       "                                           agency   type   so2   no2   rspm  \\\n",
       "435727  West Bengal State Pollution Control Board  RIRUO  11.0  34.0  118.0   \n",
       "435728  West Bengal State Pollution Control Board  RIRUO  17.0  43.0  144.0   \n",
       "435729  West Bengal State Pollution Control Board  RIRUO  19.0  49.0  140.0   \n",
       "435730  West Bengal State Pollution Control Board  RIRUO  18.0  41.0  142.0   \n",
       "435731  West Bengal State Pollution Control Board  RIRUO  22.0  58.0  155.0   \n",
       "435732  West Bengal State Pollution Control Board  RIRUO  22.0  50.0  145.0   \n",
       "435733  West Bengal State Pollution Control Board  RIRUO  34.0  61.0  161.0   \n",
       "435734  West Bengal State Pollution Control Board  RIRUO  20.0  44.0  148.0   \n",
       "435735  West Bengal State Pollution Control Board  RIRUO  17.0  44.0  131.0   \n",
       "435736  West Bengal State Pollution Control Board  RIRUO  18.0  45.0  140.0   \n",
       "435737  West Bengal State Pollution Control Board  RIRUO  22.0  50.0  143.0   \n",
       "435738  West Bengal State Pollution Control Board  RIRUO  20.0  46.0  171.0   \n",
       "435739                                        NaN    NaN   NaN   NaN    NaN   \n",
       "435740                                        NaN    NaN   NaN   NaN    NaN   \n",
       "435741                                        NaN    NaN   NaN   NaN    NaN   \n",
       "\n",
       "        spm        location_monitoring_station  pm2_5        date  \n",
       "435727  NaN  Inside Rampal Industries,ULUBERIA    NaN  11/20/2015  \n",
       "435728  NaN  Inside Rampal Industries,ULUBERIA    NaN  11/26/2015  \n",
       "435729  NaN  Inside Rampal Industries,ULUBERIA    NaN  11/29/2015  \n",
       "435730  NaN  Inside Rampal Industries,ULUBERIA    NaN   12/3/2015  \n",
       "435731  NaN  Inside Rampal Industries,ULUBERIA    NaN   12/6/2015  \n",
       "435732  NaN  Inside Rampal Industries,ULUBERIA    NaN   12/9/2015  \n",
       "435733  NaN  Inside Rampal Industries,ULUBERIA    NaN  12/12/2015  \n",
       "435734  NaN  Inside Rampal Industries,ULUBERIA    NaN  12/15/2015  \n",
       "435735  NaN  Inside Rampal Industries,ULUBERIA    NaN  12/18/2015  \n",
       "435736  NaN  Inside Rampal Industries,ULUBERIA    NaN  12/21/2015  \n",
       "435737  NaN  Inside Rampal Industries,ULUBERIA    NaN  12/24/2015  \n",
       "435738  NaN  Inside Rampal Industries,ULUBERIA    NaN  12/29/2015  \n",
       "435739  NaN                                NaN    NaN         NaN  \n",
       "435740  NaN                                NaN    NaN         NaN  \n",
       "435741  NaN                                NaN    NaN         NaN  "
      ]
     },
     "execution_count": 4,
     "metadata": {},
     "output_type": "execute_result"
    }
   ],
   "source": [
    "data.tail(15)"
   ]
  },
  {
   "cell_type": "code",
   "execution_count": 5,
   "metadata": {},
   "outputs": [
    {
     "data": {
      "text/plain": [
       "Index(['stn_code', 'sampling_date', 'state', 'location', 'agency', 'type',\n",
       "       'so2', 'no2', 'rspm', 'spm', 'location_monitoring_station', 'pm2_5',\n",
       "       'date'],\n",
       "      dtype='object')"
      ]
     },
     "execution_count": 5,
     "metadata": {},
     "output_type": "execute_result"
    }
   ],
   "source": [
    "data.columns "
   ]
  },
  {
   "cell_type": "code",
   "execution_count": 6,
   "metadata": {},
   "outputs": [
    {
     "data": {
      "text/html": [
       "<div>\n",
       "<style scoped>\n",
       "    .dataframe tbody tr th:only-of-type {\n",
       "        vertical-align: middle;\n",
       "    }\n",
       "\n",
       "    .dataframe tbody tr th {\n",
       "        vertical-align: top;\n",
       "    }\n",
       "\n",
       "    .dataframe thead th {\n",
       "        text-align: right;\n",
       "    }\n",
       "</style>\n",
       "<table border=\"1\" class=\"dataframe\">\n",
       "  <thead>\n",
       "    <tr style=\"text-align: right;\">\n",
       "      <th></th>\n",
       "      <th>so2</th>\n",
       "      <th>no2</th>\n",
       "      <th>rspm</th>\n",
       "      <th>spm</th>\n",
       "      <th>pm2_5</th>\n",
       "    </tr>\n",
       "  </thead>\n",
       "  <tbody>\n",
       "    <tr>\n",
       "      <th>count</th>\n",
       "      <td>401096.000000</td>\n",
       "      <td>419509.000000</td>\n",
       "      <td>395520.000000</td>\n",
       "      <td>198355.000000</td>\n",
       "      <td>9314.000000</td>\n",
       "    </tr>\n",
       "    <tr>\n",
       "      <th>mean</th>\n",
       "      <td>10.829414</td>\n",
       "      <td>25.809623</td>\n",
       "      <td>108.832784</td>\n",
       "      <td>220.783480</td>\n",
       "      <td>40.791467</td>\n",
       "    </tr>\n",
       "    <tr>\n",
       "      <th>std</th>\n",
       "      <td>11.177187</td>\n",
       "      <td>18.503086</td>\n",
       "      <td>74.872430</td>\n",
       "      <td>151.395457</td>\n",
       "      <td>30.832525</td>\n",
       "    </tr>\n",
       "    <tr>\n",
       "      <th>min</th>\n",
       "      <td>0.000000</td>\n",
       "      <td>0.000000</td>\n",
       "      <td>0.000000</td>\n",
       "      <td>0.000000</td>\n",
       "      <td>3.000000</td>\n",
       "    </tr>\n",
       "    <tr>\n",
       "      <th>25%</th>\n",
       "      <td>5.000000</td>\n",
       "      <td>14.000000</td>\n",
       "      <td>56.000000</td>\n",
       "      <td>111.000000</td>\n",
       "      <td>24.000000</td>\n",
       "    </tr>\n",
       "    <tr>\n",
       "      <th>50%</th>\n",
       "      <td>8.000000</td>\n",
       "      <td>22.000000</td>\n",
       "      <td>90.000000</td>\n",
       "      <td>187.000000</td>\n",
       "      <td>32.000000</td>\n",
       "    </tr>\n",
       "    <tr>\n",
       "      <th>75%</th>\n",
       "      <td>13.700000</td>\n",
       "      <td>32.200000</td>\n",
       "      <td>142.000000</td>\n",
       "      <td>296.000000</td>\n",
       "      <td>46.000000</td>\n",
       "    </tr>\n",
       "    <tr>\n",
       "      <th>max</th>\n",
       "      <td>909.000000</td>\n",
       "      <td>876.000000</td>\n",
       "      <td>6307.033333</td>\n",
       "      <td>3380.000000</td>\n",
       "      <td>504.000000</td>\n",
       "    </tr>\n",
       "  </tbody>\n",
       "</table>\n",
       "</div>"
      ],
      "text/plain": [
       "                 so2            no2           rspm            spm        pm2_5\n",
       "count  401096.000000  419509.000000  395520.000000  198355.000000  9314.000000\n",
       "mean       10.829414      25.809623     108.832784     220.783480    40.791467\n",
       "std        11.177187      18.503086      74.872430     151.395457    30.832525\n",
       "min         0.000000       0.000000       0.000000       0.000000     3.000000\n",
       "25%         5.000000      14.000000      56.000000     111.000000    24.000000\n",
       "50%         8.000000      22.000000      90.000000     187.000000    32.000000\n",
       "75%        13.700000      32.200000     142.000000     296.000000    46.000000\n",
       "max       909.000000     876.000000    6307.033333    3380.000000   504.000000"
      ]
     },
     "execution_count": 6,
     "metadata": {},
     "output_type": "execute_result"
    }
   ],
   "source": [
    "data.describe()"
   ]
  },
  {
   "cell_type": "code",
   "execution_count": 7,
   "metadata": {},
   "outputs": [
    {
     "data": {
      "text/plain": [
       "(435742, 13)"
      ]
     },
     "execution_count": 7,
     "metadata": {},
     "output_type": "execute_result"
    }
   ],
   "source": [
    "data.shape"
   ]
  },
  {
   "cell_type": "code",
   "execution_count": null,
   "metadata": {},
   "outputs": [],
   "source": []
  },
  {
   "cell_type": "markdown",
   "metadata": {},
   "source": [
    "Data Visualisation odrdered by states with highest pollutant factors"
   ]
  },
  {
   "cell_type": "code",
   "execution_count": 8,
   "metadata": {},
   "outputs": [
    {
     "data": {
      "image/png": "[encoded data removed]",
      "text/plain": [
       "<Figure size 432x288 with 1 Axes>"
      ]
     },
     "metadata": {
      "needs_background": "light"
     },
     "output_type": "display_data"
    }
   ],
   "source": [
    "#for SO2\n",
    "data[['so2','state']].groupby([\"state\"]).mean().sort_values(by='so2').head(20).plot.bar(color='red')\n",
    "\n",
    "plt.show() "
   ]
  },
  {
   "cell_type": "code",
   "execution_count": 9,
   "metadata": {},
   "outputs": [
    {
     "data": {
      "image/png": "[encoded data removed]",
      "text/plain": [
       "<Figure size 432x288 with 1 Axes>"
      ]
     },
     "metadata": {
      "needs_background": "light"
     },
     "output_type": "display_data"
    }
   ],
   "source": [
    "#for NO2\n",
    "data[['no2','state']].groupby([\"state\"]).mean().sort_values(by='no2').head(20).plot.bar(color='b')\n",
    "\n",
    "plt.show() "
   ]
  },
  {
   "cell_type": "code",
   "execution_count": 10,
   "metadata": {},
   "outputs": [
    {
     "data": {
      "image/png": "[encoded data removed]",
      "text/plain": [
       "<Figure size 432x288 with 1 Axes>"
      ]
     },
     "metadata": {
      "needs_background": "light"
     },
     "output_type": "display_data"
    }
   ],
   "source": [
    "#for SPM\n",
    "data[['spm','state']].groupby([\"state\"]).mean().sort_values(by='spm').head(20).plot.bar(color='green')\n",
    "\n",
    "plt.show() "
   ]
  },
  {
   "cell_type": "code",
   "execution_count": 11,
   "metadata": {},
   "outputs": [
    {
     "data": {
      "image/png": "[encoded data removed]",
      "text/plain": [
       "<Figure size 432x288 with 1 Axes>"
      ]
     },
     "metadata": {
      "needs_background": "light"
     },
     "output_type": "display_data"
    }
   ],
   "source": [
    "#for RSPM\n",
    "data[['rspm','state']].groupby([\"state\"]).mean().sort_values(by='rspm').head(20).plot.bar(color='b')\n",
    "\n",
    "plt.show() "
   ]
  },
  {
   "cell_type": "code",
   "execution_count": null,
   "metadata": {},
   "outputs": [],
   "source": []
  },
  {
   "cell_type": "markdown",
   "metadata": {},
   "source": [
    "## Data Cleaning\n",
    "-check for null values in each column\n",
    "\n",
    "-remove unnecessary columns like stn_code, agency, sampling rate \n"
   ]
  },
  {
   "cell_type": "code",
   "execution_count": 12,
   "metadata": {},
   "outputs": [
    {
     "data": {
      "text/plain": [
       "stn_code                       144077\n",
       "sampling_date                       3\n",
       "state                               0\n",
       "location                            3\n",
       "agency                         149481\n",
       "type                             5393\n",
       "so2                             34646\n",
       "no2                             16233\n",
       "rspm                            40222\n",
       "spm                            237387\n",
       "location_monitoring_station     27491\n",
       "pm2_5                          426428\n",
       "date                                7\n",
       "dtype: int64"
      ]
     },
     "execution_count": 12,
     "metadata": {},
     "output_type": "execute_result"
    }
   ],
   "source": [
    "#check null values\n",
    "data.isna().sum()"
   ]
  },
  {
   "cell_type": "code",
   "execution_count": 13,
   "metadata": {},
   "outputs": [],
   "source": [
    "data.drop(['stn_code','agency','sampling_date','location_monitoring_station'],axis=1,inplace=True)"
   ]
  },
  {
   "cell_type": "code",
   "execution_count": 14,
   "metadata": {},
   "outputs": [
    {
     "data": {
      "text/html": [
       "<div>\n",
       "<style scoped>\n",
       "    .dataframe tbody tr th:only-of-type {\n",
       "        vertical-align: middle;\n",
       "    }\n",
       "\n",
       "    .dataframe tbody tr th {\n",
       "        vertical-align: top;\n",
       "    }\n",
       "\n",
       "    .dataframe thead th {\n",
       "        text-align: right;\n",
       "    }\n",
       "</style>\n",
       "<table border=\"1\" class=\"dataframe\">\n",
       "  <thead>\n",
       "    <tr style=\"text-align: right;\">\n",
       "      <th></th>\n",
       "      <th>state</th>\n",
       "      <th>location</th>\n",
       "      <th>type</th>\n",
       "      <th>so2</th>\n",
       "      <th>no2</th>\n",
       "      <th>rspm</th>\n",
       "      <th>spm</th>\n",
       "      <th>pm2_5</th>\n",
       "      <th>date</th>\n",
       "    </tr>\n",
       "  </thead>\n",
       "  <tbody>\n",
       "    <tr>\n",
       "      <th>0</th>\n",
       "      <td>Andhra Pradesh</td>\n",
       "      <td>Hyderabad</td>\n",
       "      <td>Residential, Rural and other Areas</td>\n",
       "      <td>4.8</td>\n",
       "      <td>17.4</td>\n",
       "      <td>NaN</td>\n",
       "      <td>NaN</td>\n",
       "      <td>NaN</td>\n",
       "      <td>2/1/1990</td>\n",
       "    </tr>\n",
       "    <tr>\n",
       "      <th>1</th>\n",
       "      <td>Andhra Pradesh</td>\n",
       "      <td>Hyderabad</td>\n",
       "      <td>Industrial Area</td>\n",
       "      <td>3.1</td>\n",
       "      <td>7.0</td>\n",
       "      <td>NaN</td>\n",
       "      <td>NaN</td>\n",
       "      <td>NaN</td>\n",
       "      <td>2/1/1990</td>\n",
       "    </tr>\n",
       "    <tr>\n",
       "      <th>2</th>\n",
       "      <td>Andhra Pradesh</td>\n",
       "      <td>Hyderabad</td>\n",
       "      <td>Residential, Rural and other Areas</td>\n",
       "      <td>6.2</td>\n",
       "      <td>28.5</td>\n",
       "      <td>NaN</td>\n",
       "      <td>NaN</td>\n",
       "      <td>NaN</td>\n",
       "      <td>2/1/1990</td>\n",
       "    </tr>\n",
       "    <tr>\n",
       "      <th>3</th>\n",
       "      <td>Andhra Pradesh</td>\n",
       "      <td>Hyderabad</td>\n",
       "      <td>Residential, Rural and other Areas</td>\n",
       "      <td>6.3</td>\n",
       "      <td>14.7</td>\n",
       "      <td>NaN</td>\n",
       "      <td>NaN</td>\n",
       "      <td>NaN</td>\n",
       "      <td>3/1/1990</td>\n",
       "    </tr>\n",
       "    <tr>\n",
       "      <th>4</th>\n",
       "      <td>Andhra Pradesh</td>\n",
       "      <td>Hyderabad</td>\n",
       "      <td>Industrial Area</td>\n",
       "      <td>4.7</td>\n",
       "      <td>7.5</td>\n",
       "      <td>NaN</td>\n",
       "      <td>NaN</td>\n",
       "      <td>NaN</td>\n",
       "      <td>3/1/1990</td>\n",
       "    </tr>\n",
       "    <tr>\n",
       "      <th>5</th>\n",
       "      <td>Andhra Pradesh</td>\n",
       "      <td>Hyderabad</td>\n",
       "      <td>Residential, Rural and other Areas</td>\n",
       "      <td>6.4</td>\n",
       "      <td>25.7</td>\n",
       "      <td>NaN</td>\n",
       "      <td>NaN</td>\n",
       "      <td>NaN</td>\n",
       "      <td>3/1/1990</td>\n",
       "    </tr>\n",
       "    <tr>\n",
       "      <th>6</th>\n",
       "      <td>Andhra Pradesh</td>\n",
       "      <td>Hyderabad</td>\n",
       "      <td>Residential, Rural and other Areas</td>\n",
       "      <td>5.4</td>\n",
       "      <td>17.1</td>\n",
       "      <td>NaN</td>\n",
       "      <td>NaN</td>\n",
       "      <td>NaN</td>\n",
       "      <td>4/1/1990</td>\n",
       "    </tr>\n",
       "    <tr>\n",
       "      <th>7</th>\n",
       "      <td>Andhra Pradesh</td>\n",
       "      <td>Hyderabad</td>\n",
       "      <td>Industrial Area</td>\n",
       "      <td>4.7</td>\n",
       "      <td>8.7</td>\n",
       "      <td>NaN</td>\n",
       "      <td>NaN</td>\n",
       "      <td>NaN</td>\n",
       "      <td>4/1/1990</td>\n",
       "    </tr>\n",
       "    <tr>\n",
       "      <th>8</th>\n",
       "      <td>Andhra Pradesh</td>\n",
       "      <td>Hyderabad</td>\n",
       "      <td>Residential, Rural and other Areas</td>\n",
       "      <td>4.2</td>\n",
       "      <td>23.0</td>\n",
       "      <td>NaN</td>\n",
       "      <td>NaN</td>\n",
       "      <td>NaN</td>\n",
       "      <td>4/1/1990</td>\n",
       "    </tr>\n",
       "    <tr>\n",
       "      <th>9</th>\n",
       "      <td>Andhra Pradesh</td>\n",
       "      <td>Hyderabad</td>\n",
       "      <td>Industrial Area</td>\n",
       "      <td>4.0</td>\n",
       "      <td>8.9</td>\n",
       "      <td>NaN</td>\n",
       "      <td>NaN</td>\n",
       "      <td>NaN</td>\n",
       "      <td>5/1/1990</td>\n",
       "    </tr>\n",
       "    <tr>\n",
       "      <th>10</th>\n",
       "      <td>Andhra Pradesh</td>\n",
       "      <td>Hyderabad</td>\n",
       "      <td>Residential, Rural and other Areas</td>\n",
       "      <td>3.6</td>\n",
       "      <td>18.6</td>\n",
       "      <td>NaN</td>\n",
       "      <td>NaN</td>\n",
       "      <td>NaN</td>\n",
       "      <td>5/1/1990</td>\n",
       "    </tr>\n",
       "    <tr>\n",
       "      <th>11</th>\n",
       "      <td>Andhra Pradesh</td>\n",
       "      <td>Hyderabad</td>\n",
       "      <td>Residential, Rural and other Areas</td>\n",
       "      <td>3.9</td>\n",
       "      <td>14.1</td>\n",
       "      <td>NaN</td>\n",
       "      <td>133.0</td>\n",
       "      <td>NaN</td>\n",
       "      <td>6/1/1990</td>\n",
       "    </tr>\n",
       "    <tr>\n",
       "      <th>12</th>\n",
       "      <td>Andhra Pradesh</td>\n",
       "      <td>Hyderabad</td>\n",
       "      <td>Industrial Area</td>\n",
       "      <td>5.6</td>\n",
       "      <td>11.8</td>\n",
       "      <td>NaN</td>\n",
       "      <td>82.0</td>\n",
       "      <td>NaN</td>\n",
       "      <td>6/1/1990</td>\n",
       "    </tr>\n",
       "    <tr>\n",
       "      <th>13</th>\n",
       "      <td>Andhra Pradesh</td>\n",
       "      <td>Hyderabad</td>\n",
       "      <td>Residential, Rural and other Areas</td>\n",
       "      <td>3.3</td>\n",
       "      <td>19.3</td>\n",
       "      <td>NaN</td>\n",
       "      <td>111.0</td>\n",
       "      <td>NaN</td>\n",
       "      <td>6/1/1990</td>\n",
       "    </tr>\n",
       "    <tr>\n",
       "      <th>14</th>\n",
       "      <td>Andhra Pradesh</td>\n",
       "      <td>Hyderabad</td>\n",
       "      <td>Residential, Rural and other Areas</td>\n",
       "      <td>3.9</td>\n",
       "      <td>8.2</td>\n",
       "      <td>NaN</td>\n",
       "      <td>118.0</td>\n",
       "      <td>NaN</td>\n",
       "      <td>7/1/1990</td>\n",
       "    </tr>\n",
       "  </tbody>\n",
       "</table>\n",
       "</div>"
      ],
      "text/plain": [
       "             state   location                                type  so2   no2  \\\n",
       "0   Andhra Pradesh  Hyderabad  Residential, Rural and other Areas  4.8  17.4   \n",
       "1   Andhra Pradesh  Hyderabad                     Industrial Area  3.1   7.0   \n",
       "2   Andhra Pradesh  Hyderabad  Residential, Rural and other Areas  6.2  28.5   \n",
       "3   Andhra Pradesh  Hyderabad  Residential, Rural and other Areas  6.3  14.7   \n",
       "4   Andhra Pradesh  Hyderabad                     Industrial Area  4.7   7.5   \n",
       "5   Andhra Pradesh  Hyderabad  Residential, Rural and other Areas  6.4  25.7   \n",
       "6   Andhra Pradesh  Hyderabad  Residential, Rural and other Areas  5.4  17.1   \n",
       "7   Andhra Pradesh  Hyderabad                     Industrial Area  4.7   8.7   \n",
       "8   Andhra Pradesh  Hyderabad  Residential, Rural and other Areas  4.2  23.0   \n",
       "9   Andhra Pradesh  Hyderabad                     Industrial Area  4.0   8.9   \n",
       "10  Andhra Pradesh  Hyderabad  Residential, Rural and other Areas  3.6  18.6   \n",
       "11  Andhra Pradesh  Hyderabad  Residential, Rural and other Areas  3.9  14.1   \n",
       "12  Andhra Pradesh  Hyderabad                     Industrial Area  5.6  11.8   \n",
       "13  Andhra Pradesh  Hyderabad  Residential, Rural and other Areas  3.3  19.3   \n",
       "14  Andhra Pradesh  Hyderabad  Residential, Rural and other Areas  3.9   8.2   \n",
       "\n",
       "    rspm    spm  pm2_5      date  \n",
       "0    NaN    NaN    NaN  2/1/1990  \n",
       "1    NaN    NaN    NaN  2/1/1990  \n",
       "2    NaN    NaN    NaN  2/1/1990  \n",
       "3    NaN    NaN    NaN  3/1/1990  \n",
       "4    NaN    NaN    NaN  3/1/1990  \n",
       "5    NaN    NaN    NaN  3/1/1990  \n",
       "6    NaN    NaN    NaN  4/1/1990  \n",
       "7    NaN    NaN    NaN  4/1/1990  \n",
       "8    NaN    NaN    NaN  4/1/1990  \n",
       "9    NaN    NaN    NaN  5/1/1990  \n",
       "10   NaN    NaN    NaN  5/1/1990  \n",
       "11   NaN  133.0    NaN  6/1/1990  \n",
       "12   NaN   82.0    NaN  6/1/1990  \n",
       "13   NaN  111.0    NaN  6/1/1990  \n",
       "14   NaN  118.0    NaN  7/1/1990  "
      ]
     },
     "execution_count": 14,
     "metadata": {},
     "output_type": "execute_result"
    }
   ],
   "source": [
    "data.head(15)"
   ]
  },
  {
   "cell_type": "markdown",
   "metadata": {},
   "source": [
    "Check and calculate missing or null values "
   ]
  },
  {
   "cell_type": "code",
   "execution_count": 15,
   "metadata": {},
   "outputs": [],
   "source": [
    "total = data.isnull().sum().sort_values(ascending=False) "
   ]
  },
  {
   "cell_type": "code",
   "execution_count": 16,
   "metadata": {},
   "outputs": [
    {
     "data": {
      "text/plain": [
       "pm2_5    426428\n",
       "spm      237387\n",
       "rspm      40222\n",
       "so2       34646\n",
       "no2       16233\n",
       "dtype: int64"
      ]
     },
     "execution_count": 16,
     "metadata": {},
     "output_type": "execute_result"
    }
   ],
   "source": [
    "total.head()"
   ]
  },
  {
   "cell_type": "code",
   "execution_count": 17,
   "metadata": {},
   "outputs": [],
   "source": [
    "percent = (data.isnull().sum()/data.isnull().count()*100).sort_values(ascending=False)"
   ]
  },
  {
   "cell_type": "code",
   "execution_count": 18,
   "metadata": {},
   "outputs": [],
   "source": [
    "missing_data = pd.concat([total, percent], axis=1, keys=['Total', 'Percent'])"
   ]
  },
  {
   "cell_type": "code",
   "execution_count": 19,
   "metadata": {},
   "outputs": [
    {
     "data": {
      "text/html": [
       "<div>\n",
       "<style scoped>\n",
       "    .dataframe tbody tr th:only-of-type {\n",
       "        vertical-align: middle;\n",
       "    }\n",
       "\n",
       "    .dataframe tbody tr th {\n",
       "        vertical-align: top;\n",
       "    }\n",
       "\n",
       "    .dataframe thead th {\n",
       "        text-align: right;\n",
       "    }\n",
       "</style>\n",
       "<table border=\"1\" class=\"dataframe\">\n",
       "  <thead>\n",
       "    <tr style=\"text-align: right;\">\n",
       "      <th></th>\n",
       "      <th>Total</th>\n",
       "      <th>Percent</th>\n",
       "    </tr>\n",
       "  </thead>\n",
       "  <tbody>\n",
       "    <tr>\n",
       "      <th>pm2_5</th>\n",
       "      <td>426428</td>\n",
       "      <td>97.862497</td>\n",
       "    </tr>\n",
       "    <tr>\n",
       "      <th>spm</th>\n",
       "      <td>237387</td>\n",
       "      <td>54.478797</td>\n",
       "    </tr>\n",
       "    <tr>\n",
       "      <th>rspm</th>\n",
       "      <td>40222</td>\n",
       "      <td>9.230692</td>\n",
       "    </tr>\n",
       "    <tr>\n",
       "      <th>so2</th>\n",
       "      <td>34646</td>\n",
       "      <td>7.951035</td>\n",
       "    </tr>\n",
       "    <tr>\n",
       "      <th>no2</th>\n",
       "      <td>16233</td>\n",
       "      <td>3.725370</td>\n",
       "    </tr>\n",
       "  </tbody>\n",
       "</table>\n",
       "</div>"
      ],
      "text/plain": [
       "        Total    Percent\n",
       "pm2_5  426428  97.862497\n",
       "spm    237387  54.478797\n",
       "rspm    40222   9.230692\n",
       "so2     34646   7.951035\n",
       "no2     16233   3.725370"
      ]
     },
     "execution_count": 19,
     "metadata": {},
     "output_type": "execute_result"
    }
   ],
   "source": [
    "missing_data.head()"
   ]
  },
  {
   "cell_type": "code",
   "execution_count": 20,
   "metadata": {},
   "outputs": [
    {
     "data": {
      "text/plain": [
       "Text(0.5, 1.0, 'Percent missing data by feature')"
      ]
     },
     "execution_count": 20,
     "metadata": {},
     "output_type": "execute_result"
    },
    {
     "data": {
      "image/png": "[encoded data removed]",
      "text/plain": [
       "<Figure size 432x288 with 1 Axes>"
      ]
     },
     "metadata": {
      "needs_background": "light"
     },
     "output_type": "display_data"
    }
   ],
   "source": [
    "sns.barplot(x=missing_data.index, y=missing_data['Percent'])\n",
    "plt.xlabel('Features', fontsize=20)\n",
    "plt.ylabel('Percent of missing values', fontsize=20)\n",
    "plt.title('Percent missing data by feature', fontsize=20)"
   ]
  },
  {
   "cell_type": "markdown",
   "metadata": {},
   "source": [
    "Mean Distribution by State"
   ]
  },
  {
   "cell_type": "code",
   "execution_count": 21,
   "metadata": {},
   "outputs": [
    {
     "data": {
      "text/html": [
       "<div>\n",
       "<style scoped>\n",
       "    .dataframe tbody tr th:only-of-type {\n",
       "        vertical-align: middle;\n",
       "    }\n",
       "\n",
       "    .dataframe tbody tr th {\n",
       "        vertical-align: top;\n",
       "    }\n",
       "\n",
       "    .dataframe thead th {\n",
       "        text-align: right;\n",
       "    }\n",
       "</style>\n",
       "<table border=\"1\" class=\"dataframe\">\n",
       "  <thead>\n",
       "    <tr style=\"text-align: right;\">\n",
       "      <th></th>\n",
       "      <th>spm</th>\n",
       "      <th>pm2_5</th>\n",
       "      <th>rspm</th>\n",
       "      <th>so2</th>\n",
       "      <th>no2</th>\n",
       "    </tr>\n",
       "    <tr>\n",
       "      <th>state</th>\n",
       "      <th></th>\n",
       "      <th></th>\n",
       "      <th></th>\n",
       "      <th></th>\n",
       "      <th></th>\n",
       "    </tr>\n",
       "  </thead>\n",
       "  <tbody>\n",
       "    <tr>\n",
       "      <th>Andhra Pradesh</th>\n",
       "      <td>200.260378</td>\n",
       "      <td>NaN</td>\n",
       "      <td>78.182824</td>\n",
       "      <td>7.284845</td>\n",
       "      <td>21.704451</td>\n",
       "    </tr>\n",
       "    <tr>\n",
       "      <th>Arunachal Pradesh</th>\n",
       "      <td>NaN</td>\n",
       "      <td>NaN</td>\n",
       "      <td>76.629213</td>\n",
       "      <td>3.179104</td>\n",
       "      <td>5.469697</td>\n",
       "    </tr>\n",
       "    <tr>\n",
       "      <th>Assam</th>\n",
       "      <td>153.355386</td>\n",
       "      <td>NaN</td>\n",
       "      <td>93.724912</td>\n",
       "      <td>6.723263</td>\n",
       "      <td>14.793691</td>\n",
       "    </tr>\n",
       "    <tr>\n",
       "      <th>Bihar</th>\n",
       "      <td>276.917416</td>\n",
       "      <td>NaN</td>\n",
       "      <td>123.705176</td>\n",
       "      <td>19.381476</td>\n",
       "      <td>36.575525</td>\n",
       "    </tr>\n",
       "    <tr>\n",
       "      <th>Chandigarh</th>\n",
       "      <td>206.056150</td>\n",
       "      <td>NaN</td>\n",
       "      <td>96.587079</td>\n",
       "      <td>2.676986</td>\n",
       "      <td>18.619404</td>\n",
       "    </tr>\n",
       "    <tr>\n",
       "      <th>Chhattisgarh</th>\n",
       "      <td>231.290969</td>\n",
       "      <td>NaN</td>\n",
       "      <td>126.472399</td>\n",
       "      <td>12.846609</td>\n",
       "      <td>24.815961</td>\n",
       "    </tr>\n",
       "    <tr>\n",
       "      <th>Dadra &amp; Nagar Haveli</th>\n",
       "      <td>170.545024</td>\n",
       "      <td>30.511628</td>\n",
       "      <td>76.536530</td>\n",
       "      <td>8.939587</td>\n",
       "      <td>18.293959</td>\n",
       "    </tr>\n",
       "    <tr>\n",
       "      <th>Daman &amp; Diu</th>\n",
       "      <td>145.681416</td>\n",
       "      <td>27.886364</td>\n",
       "      <td>73.749431</td>\n",
       "      <td>8.192958</td>\n",
       "      <td>16.168926</td>\n",
       "    </tr>\n",
       "    <tr>\n",
       "      <th>Delhi</th>\n",
       "      <td>399.402088</td>\n",
       "      <td>95.113208</td>\n",
       "      <td>196.639771</td>\n",
       "      <td>8.737273</td>\n",
       "      <td>53.489147</td>\n",
       "    </tr>\n",
       "    <tr>\n",
       "      <th>Goa</th>\n",
       "      <td>67.254193</td>\n",
       "      <td>18.855612</td>\n",
       "      <td>61.212766</td>\n",
       "      <td>6.827913</td>\n",
       "      <td>12.506337</td>\n",
       "    </tr>\n",
       "    <tr>\n",
       "      <th>Gujarat</th>\n",
       "      <td>191.567930</td>\n",
       "      <td>30.729696</td>\n",
       "      <td>98.244510</td>\n",
       "      <td>16.656343</td>\n",
       "      <td>24.065631</td>\n",
       "    </tr>\n",
       "    <tr>\n",
       "      <th>Haryana</th>\n",
       "      <td>268.264804</td>\n",
       "      <td>NaN</td>\n",
       "      <td>149.860537</td>\n",
       "      <td>14.064957</td>\n",
       "      <td>23.428311</td>\n",
       "    </tr>\n",
       "    <tr>\n",
       "      <th>Himachal Pradesh</th>\n",
       "      <td>208.575630</td>\n",
       "      <td>NaN</td>\n",
       "      <td>91.870202</td>\n",
       "      <td>2.667013</td>\n",
       "      <td>13.658688</td>\n",
       "    </tr>\n",
       "    <tr>\n",
       "      <th>Jammu &amp; Kashmir</th>\n",
       "      <td>196.221053</td>\n",
       "      <td>NaN</td>\n",
       "      <td>117.449483</td>\n",
       "      <td>7.180521</td>\n",
       "      <td>12.213181</td>\n",
       "    </tr>\n",
       "    <tr>\n",
       "      <th>Jharkhand</th>\n",
       "      <td>277.940746</td>\n",
       "      <td>NaN</td>\n",
       "      <td>168.517763</td>\n",
       "      <td>23.485794</td>\n",
       "      <td>43.366341</td>\n",
       "    </tr>\n",
       "    <tr>\n",
       "      <th>Karnataka</th>\n",
       "      <td>168.001743</td>\n",
       "      <td>NaN</td>\n",
       "      <td>79.371801</td>\n",
       "      <td>10.223099</td>\n",
       "      <td>22.702837</td>\n",
       "    </tr>\n",
       "    <tr>\n",
       "      <th>Kerala</th>\n",
       "      <td>84.419791</td>\n",
       "      <td>NaN</td>\n",
       "      <td>50.636064</td>\n",
       "      <td>5.322350</td>\n",
       "      <td>14.421889</td>\n",
       "    </tr>\n",
       "    <tr>\n",
       "      <th>Lakshadweep</th>\n",
       "      <td>NaN</td>\n",
       "      <td>NaN</td>\n",
       "      <td>NaN</td>\n",
       "      <td>NaN</td>\n",
       "      <td>NaN</td>\n",
       "    </tr>\n",
       "    <tr>\n",
       "      <th>Madhya Pradesh</th>\n",
       "      <td>210.067545</td>\n",
       "      <td>65.064565</td>\n",
       "      <td>114.717967</td>\n",
       "      <td>11.587410</td>\n",
       "      <td>18.639596</td>\n",
       "    </tr>\n",
       "    <tr>\n",
       "      <th>Maharashtra</th>\n",
       "      <td>205.255823</td>\n",
       "      <td>NaN</td>\n",
       "      <td>101.479608</td>\n",
       "      <td>17.366863</td>\n",
       "      <td>32.115370</td>\n",
       "    </tr>\n",
       "    <tr>\n",
       "      <th>Manipur</th>\n",
       "      <td>158.657895</td>\n",
       "      <td>NaN</td>\n",
       "      <td>69.815789</td>\n",
       "      <td>3.900000</td>\n",
       "      <td>20.173684</td>\n",
       "    </tr>\n",
       "    <tr>\n",
       "      <th>Meghalaya</th>\n",
       "      <td>78.002445</td>\n",
       "      <td>NaN</td>\n",
       "      <td>68.988442</td>\n",
       "      <td>8.955908</td>\n",
       "      <td>10.659706</td>\n",
       "    </tr>\n",
       "    <tr>\n",
       "      <th>Mizoram</th>\n",
       "      <td>87.833333</td>\n",
       "      <td>NaN</td>\n",
       "      <td>42.716466</td>\n",
       "      <td>2.085009</td>\n",
       "      <td>6.682171</td>\n",
       "    </tr>\n",
       "    <tr>\n",
       "      <th>Nagaland</th>\n",
       "      <td>133.311449</td>\n",
       "      <td>NaN</td>\n",
       "      <td>83.357027</td>\n",
       "      <td>2.059736</td>\n",
       "      <td>8.947265</td>\n",
       "    </tr>\n",
       "    <tr>\n",
       "      <th>Odisha</th>\n",
       "      <td>167.609844</td>\n",
       "      <td>42.204089</td>\n",
       "      <td>83.619824</td>\n",
       "      <td>5.275874</td>\n",
       "      <td>16.899568</td>\n",
       "    </tr>\n",
       "    <tr>\n",
       "      <th>Puducherry</th>\n",
       "      <td>95.598188</td>\n",
       "      <td>NaN</td>\n",
       "      <td>43.418217</td>\n",
       "      <td>11.970639</td>\n",
       "      <td>15.279496</td>\n",
       "    </tr>\n",
       "    <tr>\n",
       "      <th>Punjab</th>\n",
       "      <td>244.918926</td>\n",
       "      <td>NaN</td>\n",
       "      <td>173.493711</td>\n",
       "      <td>10.628598</td>\n",
       "      <td>28.085846</td>\n",
       "    </tr>\n",
       "    <tr>\n",
       "      <th>Rajasthan</th>\n",
       "      <td>300.735397</td>\n",
       "      <td>NaN</td>\n",
       "      <td>142.016832</td>\n",
       "      <td>7.665725</td>\n",
       "      <td>30.441008</td>\n",
       "    </tr>\n",
       "    <tr>\n",
       "      <th>Sikkim</th>\n",
       "      <td>75.000000</td>\n",
       "      <td>NaN</td>\n",
       "      <td>32.000000</td>\n",
       "      <td>19.800000</td>\n",
       "      <td>26.800000</td>\n",
       "    </tr>\n",
       "    <tr>\n",
       "      <th>Tamil Nadu</th>\n",
       "      <td>126.729064</td>\n",
       "      <td>29.550441</td>\n",
       "      <td>66.585638</td>\n",
       "      <td>11.315134</td>\n",
       "      <td>21.601202</td>\n",
       "    </tr>\n",
       "    <tr>\n",
       "      <th>Telangana</th>\n",
       "      <td>NaN</td>\n",
       "      <td>43.968927</td>\n",
       "      <td>85.043008</td>\n",
       "      <td>5.418609</td>\n",
       "      <td>23.864005</td>\n",
       "    </tr>\n",
       "    <tr>\n",
       "      <th>Tripura</th>\n",
       "      <td>NaN</td>\n",
       "      <td>NaN</td>\n",
       "      <td>NaN</td>\n",
       "      <td>NaN</td>\n",
       "      <td>NaN</td>\n",
       "    </tr>\n",
       "    <tr>\n",
       "      <th>Uttar Pradesh</th>\n",
       "      <td>372.663688</td>\n",
       "      <td>NaN</td>\n",
       "      <td>176.952308</td>\n",
       "      <td>12.528500</td>\n",
       "      <td>27.610095</td>\n",
       "    </tr>\n",
       "    <tr>\n",
       "      <th>Uttarakhand</th>\n",
       "      <td>306.758923</td>\n",
       "      <td>NaN</td>\n",
       "      <td>148.978906</td>\n",
       "      <td>24.372957</td>\n",
       "      <td>26.938090</td>\n",
       "    </tr>\n",
       "    <tr>\n",
       "      <th>Uttaranchal</th>\n",
       "      <td>283.335714</td>\n",
       "      <td>NaN</td>\n",
       "      <td>121.694340</td>\n",
       "      <td>24.697736</td>\n",
       "      <td>27.163019</td>\n",
       "    </tr>\n",
       "    <tr>\n",
       "      <th>West Bengal</th>\n",
       "      <td>233.506524</td>\n",
       "      <td>64.890625</td>\n",
       "      <td>115.039909</td>\n",
       "      <td>12.608766</td>\n",
       "      <td>59.075731</td>\n",
       "    </tr>\n",
       "    <tr>\n",
       "      <th>andaman-and-nicobar-islands</th>\n",
       "      <td>NaN</td>\n",
       "      <td>NaN</td>\n",
       "      <td>NaN</td>\n",
       "      <td>NaN</td>\n",
       "      <td>NaN</td>\n",
       "    </tr>\n",
       "  </tbody>\n",
       "</table>\n",
       "</div>"
      ],
      "text/plain": [
       "                                    spm      pm2_5        rspm        so2  \\\n",
       "state                                                                       \n",
       "Andhra Pradesh               200.260378        NaN   78.182824   7.284845   \n",
       "Arunachal Pradesh                   NaN        NaN   76.629213   3.179104   \n",
       "Assam                        153.355386        NaN   93.724912   6.723263   \n",
       "Bihar                        276.917416        NaN  123.705176  19.381476   \n",
       "Chandigarh                   206.056150        NaN   96.587079   2.676986   \n",
       "Chhattisgarh                 231.290969        NaN  126.472399  12.846609   \n",
       "Dadra & Nagar Haveli         170.545024  30.511628   76.536530   8.939587   \n",
       "Daman & Diu                  145.681416  27.886364   73.749431   8.192958   \n",
       "Delhi                        399.402088  95.113208  196.639771   8.737273   \n",
       "Goa                           67.254193  18.855612   61.212766   6.827913   \n",
       "Gujarat                      191.567930  30.729696   98.244510  16.656343   \n",
       "Haryana                      268.264804        NaN  149.860537  14.064957   \n",
       "Himachal Pradesh             208.575630        NaN   91.870202   2.667013   \n",
       "Jammu & Kashmir              196.221053        NaN  117.449483   7.180521   \n",
       "Jharkhand                    277.940746        NaN  168.517763  23.485794   \n",
       "Karnataka                    168.001743        NaN   79.371801  10.223099   \n",
       "Kerala                        84.419791        NaN   50.636064   5.322350   \n",
       "Lakshadweep                         NaN        NaN         NaN        NaN   \n",
       "Madhya Pradesh               210.067545  65.064565  114.717967  11.587410   \n",
       "Maharashtra                  205.255823        NaN  101.479608  17.366863   \n",
       "Manipur                      158.657895        NaN   69.815789   3.900000   \n",
       "Meghalaya                     78.002445        NaN   68.988442   8.955908   \n",
       "Mizoram                       87.833333        NaN   42.716466   2.085009   \n",
       "Nagaland                     133.311449        NaN   83.357027   2.059736   \n",
       "Odisha                       167.609844  42.204089   83.619824   5.275874   \n",
       "Puducherry                    95.598188        NaN   43.418217  11.970639   \n",
       "Punjab                       244.918926        NaN  173.493711  10.628598   \n",
       "Rajasthan                    300.735397        NaN  142.016832   7.665725   \n",
       "Sikkim                        75.000000        NaN   32.000000  19.800000   \n",
       "Tamil Nadu                   126.729064  29.550441   66.585638  11.315134   \n",
       "Telangana                           NaN  43.968927   85.043008   5.418609   \n",
       "Tripura                             NaN        NaN         NaN        NaN   \n",
       "Uttar Pradesh                372.663688        NaN  176.952308  12.528500   \n",
       "Uttarakhand                  306.758923        NaN  148.978906  24.372957   \n",
       "Uttaranchal                  283.335714        NaN  121.694340  24.697736   \n",
       "West Bengal                  233.506524  64.890625  115.039909  12.608766   \n",
       "andaman-and-nicobar-islands         NaN        NaN         NaN        NaN   \n",
       "\n",
       "                                   no2  \n",
       "state                                   \n",
       "Andhra Pradesh               21.704451  \n",
       "Arunachal Pradesh             5.469697  \n",
       "Assam                        14.793691  \n",
       "Bihar                        36.575525  \n",
       "Chandigarh                   18.619404  \n",
       "Chhattisgarh                 24.815961  \n",
       "Dadra & Nagar Haveli         18.293959  \n",
       "Daman & Diu                  16.168926  \n",
       "Delhi                        53.489147  \n",
       "Goa                          12.506337  \n",
       "Gujarat                      24.065631  \n",
       "Haryana                      23.428311  \n",
       "Himachal Pradesh             13.658688  \n",
       "Jammu & Kashmir              12.213181  \n",
       "Jharkhand                    43.366341  \n",
       "Karnataka                    22.702837  \n",
       "Kerala                       14.421889  \n",
       "Lakshadweep                        NaN  \n",
       "Madhya Pradesh               18.639596  \n",
       "Maharashtra                  32.115370  \n",
       "Manipur                      20.173684  \n",
       "Meghalaya                    10.659706  \n",
       "Mizoram                       6.682171  \n",
       "Nagaland                      8.947265  \n",
       "Odisha                       16.899568  \n",
       "Puducherry                   15.279496  \n",
       "Punjab                       28.085846  \n",
       "Rajasthan                    30.441008  \n",
       "Sikkim                       26.800000  \n",
       "Tamil Nadu                   21.601202  \n",
       "Telangana                    23.864005  \n",
       "Tripura                            NaN  \n",
       "Uttar Pradesh                27.610095  \n",
       "Uttarakhand                  26.938090  \n",
       "Uttaranchal                  27.163019  \n",
       "West Bengal                  59.075731  \n",
       "andaman-and-nicobar-islands        NaN  "
      ]
     },
     "execution_count": 21,
     "metadata": {},
     "output_type": "execute_result"
    }
   ],
   "source": [
    "data.groupby('state')[['spm','pm2_5','rspm','so2','no2']].mean()"
   ]
  },
  {
   "cell_type": "code",
   "execution_count": 22,
   "metadata": {},
   "outputs": [],
   "source": [
    "grp_state = data.groupby('state')"
   ]
  },
  {
   "cell_type": "code",
   "execution_count": 23,
   "metadata": {},
   "outputs": [],
   "source": [
    "# fill missing values by mean \n",
    "\n",
    "def replace_missing_by_mean(series):\n",
    "    return series.fillna(series.mean()) "
   ]
  },
  {
   "cell_type": "code",
   "execution_count": 24,
   "metadata": {},
   "outputs": [],
   "source": [
    "data['rspm']=grp_state['rspm'].transform(replace_missing_by_mean)  \n",
    "data['so2']=grp_state['so2'].transform(replace_missing_by_mean)\n",
    "data['no2']=grp_state['no2'].transform(replace_missing_by_mean)\n",
    "data['spm']=grp_state['spm'].transform(replace_missing_by_mean)\n",
    "data['pm2_5']=grp_state['pm2_5'].transform(replace_missing_by_mean)"
   ]
  },
  {
   "cell_type": "code",
   "execution_count": 25,
   "metadata": {},
   "outputs": [
    {
     "data": {
      "text/html": [
       "<div>\n",
       "<style scoped>\n",
       "    .dataframe tbody tr th:only-of-type {\n",
       "        vertical-align: middle;\n",
       "    }\n",
       "\n",
       "    .dataframe tbody tr th {\n",
       "        vertical-align: top;\n",
       "    }\n",
       "\n",
       "    .dataframe thead th {\n",
       "        text-align: right;\n",
       "    }\n",
       "</style>\n",
       "<table border=\"1\" class=\"dataframe\">\n",
       "  <thead>\n",
       "    <tr style=\"text-align: right;\">\n",
       "      <th></th>\n",
       "      <th>so2</th>\n",
       "      <th>no2</th>\n",
       "      <th>rspm</th>\n",
       "      <th>spm</th>\n",
       "      <th>pm2_5</th>\n",
       "    </tr>\n",
       "  </thead>\n",
       "  <tbody>\n",
       "    <tr>\n",
       "      <th>count</th>\n",
       "      <td>435739.000000</td>\n",
       "      <td>435739.000000</td>\n",
       "      <td>435739.000000</td>\n",
       "      <td>431671.000000</td>\n",
       "      <td>123689.000000</td>\n",
       "    </tr>\n",
       "    <tr>\n",
       "      <th>mean</th>\n",
       "      <td>10.589141</td>\n",
       "      <td>25.663170</td>\n",
       "      <td>109.680907</td>\n",
       "      <td>215.198748</td>\n",
       "      <td>48.317274</td>\n",
       "    </tr>\n",
       "    <tr>\n",
       "      <th>std</th>\n",
       "      <td>10.863679</td>\n",
       "      <td>18.271145</td>\n",
       "      <td>72.519399</td>\n",
       "      <td>117.470157</td>\n",
       "      <td>21.455206</td>\n",
       "    </tr>\n",
       "    <tr>\n",
       "      <th>min</th>\n",
       "      <td>0.000000</td>\n",
       "      <td>0.000000</td>\n",
       "      <td>0.000000</td>\n",
       "      <td>0.000000</td>\n",
       "      <td>3.000000</td>\n",
       "    </tr>\n",
       "    <tr>\n",
       "      <th>25%</th>\n",
       "      <td>4.800000</td>\n",
       "      <td>14.000000</td>\n",
       "      <td>59.000000</td>\n",
       "      <td>142.000000</td>\n",
       "      <td>30.729696</td>\n",
       "    </tr>\n",
       "    <tr>\n",
       "      <th>50%</th>\n",
       "      <td>8.000000</td>\n",
       "      <td>21.800000</td>\n",
       "      <td>93.000000</td>\n",
       "      <td>205.255823</td>\n",
       "      <td>42.204089</td>\n",
       "    </tr>\n",
       "    <tr>\n",
       "      <th>75%</th>\n",
       "      <td>13.000000</td>\n",
       "      <td>32.000000</td>\n",
       "      <td>142.016832</td>\n",
       "      <td>248.000000</td>\n",
       "      <td>64.890625</td>\n",
       "    </tr>\n",
       "    <tr>\n",
       "      <th>max</th>\n",
       "      <td>909.000000</td>\n",
       "      <td>876.000000</td>\n",
       "      <td>6307.033333</td>\n",
       "      <td>3380.000000</td>\n",
       "      <td>504.000000</td>\n",
       "    </tr>\n",
       "  </tbody>\n",
       "</table>\n",
       "</div>"
      ],
      "text/plain": [
       "                 so2            no2           rspm            spm  \\\n",
       "count  435739.000000  435739.000000  435739.000000  431671.000000   \n",
       "mean       10.589141      25.663170     109.680907     215.198748   \n",
       "std        10.863679      18.271145      72.519399     117.470157   \n",
       "min         0.000000       0.000000       0.000000       0.000000   \n",
       "25%         4.800000      14.000000      59.000000     142.000000   \n",
       "50%         8.000000      21.800000      93.000000     205.255823   \n",
       "75%        13.000000      32.000000     142.016832     248.000000   \n",
       "max       909.000000     876.000000    6307.033333    3380.000000   \n",
       "\n",
       "               pm2_5  \n",
       "count  123689.000000  \n",
       "mean       48.317274  \n",
       "std        21.455206  \n",
       "min         3.000000  \n",
       "25%        30.729696  \n",
       "50%        42.204089  \n",
       "75%        64.890625  \n",
       "max       504.000000  "
      ]
     },
     "execution_count": 25,
     "metadata": {},
     "output_type": "execute_result"
    }
   ],
   "source": [
    "data.describe()"
   ]
  },
  {
   "cell_type": "code",
   "execution_count": 26,
   "metadata": {},
   "outputs": [
    {
     "data": {
      "text/plain": [
       "state            0\n",
       "location         3\n",
       "type          5393\n",
       "so2              3\n",
       "no2              3\n",
       "rspm             3\n",
       "spm           4071\n",
       "pm2_5       312053\n",
       "date             7\n",
       "dtype: int64"
      ]
     },
     "execution_count": 26,
     "metadata": {},
     "output_type": "execute_result"
    }
   ],
   "source": [
    "data.isna().sum()"
   ]
  },
  {
   "cell_type": "markdown",
   "metadata": {},
   "source": [
    "### Data Analysis\n",
    "\n",
    "CALCULATE AIR QUALITY INDEX FOR ALL COREESPONDING FACTORS BASED ON FORMULA\n",
    "\n"
   ]
  },
  {
   "cell_type": "markdown",
   "metadata": {},
   "source": [
    "AIR QUALITY BASED ON SO2 - SOindex (si)"
   ]
  },
  {
   "cell_type": "code",
   "execution_count": 27,
   "metadata": {},
   "outputs": [
    {
     "data": {
      "text/html": [
       "<div>\n",
       "<style scoped>\n",
       "    .dataframe tbody tr th:only-of-type {\n",
       "        vertical-align: middle;\n",
       "    }\n",
       "\n",
       "    .dataframe tbody tr th {\n",
       "        vertical-align: top;\n",
       "    }\n",
       "\n",
       "    .dataframe thead th {\n",
       "        text-align: right;\n",
       "    }\n",
       "</style>\n",
       "<table border=\"1\" class=\"dataframe\">\n",
       "  <thead>\n",
       "    <tr style=\"text-align: right;\">\n",
       "      <th></th>\n",
       "      <th>so2</th>\n",
       "      <th>SOi</th>\n",
       "    </tr>\n",
       "  </thead>\n",
       "  <tbody>\n",
       "    <tr>\n",
       "      <th>0</th>\n",
       "      <td>4.8</td>\n",
       "      <td>6.000</td>\n",
       "    </tr>\n",
       "    <tr>\n",
       "      <th>1</th>\n",
       "      <td>3.1</td>\n",
       "      <td>3.875</td>\n",
       "    </tr>\n",
       "    <tr>\n",
       "      <th>2</th>\n",
       "      <td>6.2</td>\n",
       "      <td>7.750</td>\n",
       "    </tr>\n",
       "    <tr>\n",
       "      <th>3</th>\n",
       "      <td>6.3</td>\n",
       "      <td>7.875</td>\n",
       "    </tr>\n",
       "    <tr>\n",
       "      <th>4</th>\n",
       "      <td>4.7</td>\n",
       "      <td>5.875</td>\n",
       "    </tr>\n",
       "    <tr>\n",
       "      <th>5</th>\n",
       "      <td>6.4</td>\n",
       "      <td>8.000</td>\n",
       "    </tr>\n",
       "    <tr>\n",
       "      <th>6</th>\n",
       "      <td>5.4</td>\n",
       "      <td>6.750</td>\n",
       "    </tr>\n",
       "    <tr>\n",
       "      <th>7</th>\n",
       "      <td>4.7</td>\n",
       "      <td>5.875</td>\n",
       "    </tr>\n",
       "    <tr>\n",
       "      <th>8</th>\n",
       "      <td>4.2</td>\n",
       "      <td>5.250</td>\n",
       "    </tr>\n",
       "    <tr>\n",
       "      <th>9</th>\n",
       "      <td>4.0</td>\n",
       "      <td>5.000</td>\n",
       "    </tr>\n",
       "  </tbody>\n",
       "</table>\n",
       "</div>"
      ],
      "text/plain": [
       "   so2    SOi\n",
       "0  4.8  6.000\n",
       "1  3.1  3.875\n",
       "2  6.2  7.750\n",
       "3  6.3  7.875\n",
       "4  4.7  5.875\n",
       "5  6.4  8.000\n",
       "6  5.4  6.750\n",
       "7  4.7  5.875\n",
       "8  4.2  5.250\n",
       "9  4.0  5.000"
      ]
     },
     "execution_count": 27,
     "metadata": {},
     "output_type": "execute_result"
    }
   ],
   "source": [
    "def cal_SOi(so2):\n",
    "    si=0\n",
    "    if (so2<=40):\n",
    "        si= so2*(50/40)\n",
    "\n",
    "    elif (so2>40 and so2<=80):\n",
    "        si= 50+(so2-40)*(50/40)\n",
    "\n",
    "    elif (so2>80 and so2<=380):\n",
    "        si= 100+(so2-80)*(100/300)\n",
    "\n",
    "    elif (so2>380 and so2<=800):\n",
    "        si= 200+(so2-380)*(100/420)\n",
    "\n",
    "    elif (so2>800 and so2<=1600):\n",
    "        si= 300+(so2-800)*(100/800)\n",
    "\n",
    "    elif (so2>1600):\n",
    "        si= 400+(so2-1600)*(100/800)\n",
    "    return si\n",
    "\n",
    "\n",
    "data['SOi']=data['so2'].apply(cal_SOi)\n",
    "df= data[['so2','SOi']]\n",
    "df.head(10)"
   ]
  },
  {
   "cell_type": "code",
   "execution_count": null,
   "metadata": {},
   "outputs": [],
   "source": []
  },
  {
   "cell_type": "markdown",
   "metadata": {},
   "source": [
    "AIR QUALITY BASED ON NO2 - NOindex(ni)\n"
   ]
  },
  {
   "cell_type": "code",
   "execution_count": 28,
   "metadata": {},
   "outputs": [
    {
     "data": {
      "text/html": [
       "<div>\n",
       "<style scoped>\n",
       "    .dataframe tbody tr th:only-of-type {\n",
       "        vertical-align: middle;\n",
       "    }\n",
       "\n",
       "    .dataframe tbody tr th {\n",
       "        vertical-align: top;\n",
       "    }\n",
       "\n",
       "    .dataframe thead th {\n",
       "        text-align: right;\n",
       "    }\n",
       "</style>\n",
       "<table border=\"1\" class=\"dataframe\">\n",
       "  <thead>\n",
       "    <tr style=\"text-align: right;\">\n",
       "      <th></th>\n",
       "      <th>no2</th>\n",
       "      <th>Noi</th>\n",
       "    </tr>\n",
       "  </thead>\n",
       "  <tbody>\n",
       "    <tr>\n",
       "      <th>0</th>\n",
       "      <td>17.4</td>\n",
       "      <td>21.750</td>\n",
       "    </tr>\n",
       "    <tr>\n",
       "      <th>1</th>\n",
       "      <td>7.0</td>\n",
       "      <td>8.750</td>\n",
       "    </tr>\n",
       "    <tr>\n",
       "      <th>2</th>\n",
       "      <td>28.5</td>\n",
       "      <td>35.625</td>\n",
       "    </tr>\n",
       "    <tr>\n",
       "      <th>3</th>\n",
       "      <td>14.7</td>\n",
       "      <td>18.375</td>\n",
       "    </tr>\n",
       "    <tr>\n",
       "      <th>4</th>\n",
       "      <td>7.5</td>\n",
       "      <td>9.375</td>\n",
       "    </tr>\n",
       "  </tbody>\n",
       "</table>\n",
       "</div>"
      ],
      "text/plain": [
       "    no2     Noi\n",
       "0  17.4  21.750\n",
       "1   7.0   8.750\n",
       "2  28.5  35.625\n",
       "3  14.7  18.375\n",
       "4   7.5   9.375"
      ]
     },
     "execution_count": 28,
     "metadata": {},
     "output_type": "execute_result"
    }
   ],
   "source": [
    "def cal_Noi(no2):\n",
    "    ni=0\n",
    "    if(no2<=40):\n",
    "     ni= no2*50/40\n",
    "    elif(no2>40 and no2<=80):\n",
    "     ni= 50+(no2-40)*(50/40)\n",
    "    elif(no2>80 and no2<=180):\n",
    "     ni= 100+(no2-80)*(100/100)\n",
    "    elif(no2>180 and no2<=280):\n",
    "     ni= 200+(no2-180)*(100/100)\n",
    "    elif(no2>280 and no2<=400):\n",
    "     ni= 300+(no2-280)*(100/120)\n",
    "    else:\n",
    "     ni= 400+(no2-400)*(100/120)\n",
    "    return ni\n",
    "data['Noi']=data['no2'].apply(cal_Noi)\n",
    "df= data[['no2','Noi']]\n",
    "df.head()"
   ]
  },
  {
   "cell_type": "markdown",
   "metadata": {},
   "source": [
    "AIR QUALITY BASED ON RSPM- RSPMindex(rpi)"
   ]
  },
  {
   "cell_type": "code",
   "execution_count": 29,
   "metadata": {},
   "outputs": [
    {
     "data": {
      "text/html": [
       "<div>\n",
       "<style scoped>\n",
       "    .dataframe tbody tr th:only-of-type {\n",
       "        vertical-align: middle;\n",
       "    }\n",
       "\n",
       "    .dataframe tbody tr th {\n",
       "        vertical-align: top;\n",
       "    }\n",
       "\n",
       "    .dataframe thead th {\n",
       "        text-align: right;\n",
       "    }\n",
       "</style>\n",
       "<table border=\"1\" class=\"dataframe\">\n",
       "  <thead>\n",
       "    <tr style=\"text-align: right;\">\n",
       "      <th></th>\n",
       "      <th>rspm</th>\n",
       "      <th>RSPMi</th>\n",
       "    </tr>\n",
       "  </thead>\n",
       "  <tbody>\n",
       "    <tr>\n",
       "      <th>0</th>\n",
       "      <td>78.182824</td>\n",
       "      <td>78.182824</td>\n",
       "    </tr>\n",
       "    <tr>\n",
       "      <th>1</th>\n",
       "      <td>78.182824</td>\n",
       "      <td>78.182824</td>\n",
       "    </tr>\n",
       "    <tr>\n",
       "      <th>2</th>\n",
       "      <td>78.182824</td>\n",
       "      <td>78.182824</td>\n",
       "    </tr>\n",
       "    <tr>\n",
       "      <th>3</th>\n",
       "      <td>78.182824</td>\n",
       "      <td>78.182824</td>\n",
       "    </tr>\n",
       "    <tr>\n",
       "      <th>4</th>\n",
       "      <td>78.182824</td>\n",
       "      <td>78.182824</td>\n",
       "    </tr>\n",
       "  </tbody>\n",
       "</table>\n",
       "</div>"
      ],
      "text/plain": [
       "        rspm      RSPMi\n",
       "0  78.182824  78.182824\n",
       "1  78.182824  78.182824\n",
       "2  78.182824  78.182824\n",
       "3  78.182824  78.182824\n",
       "4  78.182824  78.182824"
      ]
     },
     "execution_count": 29,
     "metadata": {},
     "output_type": "execute_result"
    }
   ],
   "source": [
    "def cal_RSPMi(rspm):\n",
    "    rpi=0\n",
    "    if(rspm<=100):\n",
    "     rpi = rspm\n",
    "    elif(rspm>=101 and rspm<=150):\n",
    "     rpi= 101+(rspm-101)*((200-101)/(150-101))\n",
    "    elif(rspm>=151 and rspm<=350):\n",
    "     ni= 201+(rspm-151)*((300-201)/(350-151))\n",
    "    elif(rspm>=351 and rspm<=420):\n",
    "     ni= 301+(rspm-351)*((400-301)/(420-351))\n",
    "    elif(rspm>420):\n",
    "     ni= 401+(rspm-420)*((500-401)/(420-351))\n",
    "    return rpi\n",
    "data['RSPMi']=data['rspm'].apply(cal_RSPMi)\n",
    "df= data[['rspm','RSPMi']]\n",
    "df.head()"
   ]
  },
  {
   "cell_type": "code",
   "execution_count": null,
   "metadata": {},
   "outputs": [],
   "source": []
  },
  {
   "cell_type": "markdown",
   "metadata": {},
   "source": [
    "AIR QUALITY INDEX FOR SPM BASED ON FORMULA- SPMindex(spi)"
   ]
  },
  {
   "cell_type": "code",
   "execution_count": 30,
   "metadata": {},
   "outputs": [
    {
     "data": {
      "text/html": [
       "<div>\n",
       "<style scoped>\n",
       "    .dataframe tbody tr th:only-of-type {\n",
       "        vertical-align: middle;\n",
       "    }\n",
       "\n",
       "    .dataframe tbody tr th {\n",
       "        vertical-align: top;\n",
       "    }\n",
       "\n",
       "    .dataframe thead th {\n",
       "        text-align: right;\n",
       "    }\n",
       "</style>\n",
       "<table border=\"1\" class=\"dataframe\">\n",
       "  <thead>\n",
       "    <tr style=\"text-align: right;\">\n",
       "      <th></th>\n",
       "      <th>spm</th>\n",
       "      <th>SPMi</th>\n",
       "    </tr>\n",
       "  </thead>\n",
       "  <tbody>\n",
       "    <tr>\n",
       "      <th>0</th>\n",
       "      <td>200.260378</td>\n",
       "      <td>166.840252</td>\n",
       "    </tr>\n",
       "    <tr>\n",
       "      <th>1</th>\n",
       "      <td>200.260378</td>\n",
       "      <td>166.840252</td>\n",
       "    </tr>\n",
       "    <tr>\n",
       "      <th>2</th>\n",
       "      <td>200.260378</td>\n",
       "      <td>166.840252</td>\n",
       "    </tr>\n",
       "    <tr>\n",
       "      <th>3</th>\n",
       "      <td>200.260378</td>\n",
       "      <td>166.840252</td>\n",
       "    </tr>\n",
       "    <tr>\n",
       "      <th>4</th>\n",
       "      <td>200.260378</td>\n",
       "      <td>166.840252</td>\n",
       "    </tr>\n",
       "  </tbody>\n",
       "</table>\n",
       "</div>"
      ],
      "text/plain": [
       "          spm        SPMi\n",
       "0  200.260378  166.840252\n",
       "1  200.260378  166.840252\n",
       "2  200.260378  166.840252\n",
       "3  200.260378  166.840252\n",
       "4  200.260378  166.840252"
      ]
     },
     "execution_count": 30,
     "metadata": {},
     "output_type": "execute_result"
    }
   ],
   "source": [
    "def cal_SPMi(spm):\n",
    "    spi=0\n",
    "    if(spm<=50):\n",
    "     spi=spm*50/50\n",
    "    elif(spm>50 and spm<=100):\n",
    "     spi=50+(spm-50)*(50/50)\n",
    "    elif(spm>100 and spm<=250):\n",
    "     spi= 100+(spm-100)*(100/150)\n",
    "    elif(spm>250 and spm<=350):\n",
    "     spi=200+(spm-250)*(100/100)\n",
    "    elif(spm>350 and spm<=430):\n",
    "     spi=300+(spm-350)*(100/80)\n",
    "    else:\n",
    "     spi=400+(spm-430)*(100/430)\n",
    "    return spi\n",
    "   \n",
    "data['SPMi']=data['spm'].apply(cal_SPMi)\n",
    "df= data[['spm','SPMi']]\n",
    "df.head()"
   ]
  },
  {
   "cell_type": "markdown",
   "metadata": {},
   "source": [
    "AIR QUALITY INDEX FOR PM 2.5"
   ]
  },
  {
   "cell_type": "code",
   "execution_count": 31,
   "metadata": {},
   "outputs": [
    {
     "data": {
      "text/html": [
       "<div>\n",
       "<style scoped>\n",
       "    .dataframe tbody tr th:only-of-type {\n",
       "        vertical-align: middle;\n",
       "    }\n",
       "\n",
       "    .dataframe tbody tr th {\n",
       "        vertical-align: top;\n",
       "    }\n",
       "\n",
       "    .dataframe thead th {\n",
       "        text-align: right;\n",
       "    }\n",
       "</style>\n",
       "<table border=\"1\" class=\"dataframe\">\n",
       "  <thead>\n",
       "    <tr style=\"text-align: right;\">\n",
       "      <th></th>\n",
       "      <th>pm2_5</th>\n",
       "      <th>PMi</th>\n",
       "    </tr>\n",
       "  </thead>\n",
       "  <tbody>\n",
       "    <tr>\n",
       "      <th>0</th>\n",
       "      <td>NaN</td>\n",
       "      <td>NaN</td>\n",
       "    </tr>\n",
       "    <tr>\n",
       "      <th>1</th>\n",
       "      <td>NaN</td>\n",
       "      <td>NaN</td>\n",
       "    </tr>\n",
       "    <tr>\n",
       "      <th>2</th>\n",
       "      <td>NaN</td>\n",
       "      <td>NaN</td>\n",
       "    </tr>\n",
       "    <tr>\n",
       "      <th>3</th>\n",
       "      <td>NaN</td>\n",
       "      <td>NaN</td>\n",
       "    </tr>\n",
       "    <tr>\n",
       "      <th>4</th>\n",
       "      <td>NaN</td>\n",
       "      <td>NaN</td>\n",
       "    </tr>\n",
       "  </tbody>\n",
       "</table>\n",
       "</div>"
      ],
      "text/plain": [
       "   pm2_5  PMi\n",
       "0    NaN  NaN\n",
       "1    NaN  NaN\n",
       "2    NaN  NaN\n",
       "3    NaN  NaN\n",
       "4    NaN  NaN"
      ]
     },
     "execution_count": 31,
     "metadata": {},
     "output_type": "execute_result"
    }
   ],
   "source": [
    "def cal_pmi(pm2_5):\n",
    "    pmi=0\n",
    "    if(pm2_5<=50):\n",
    "     pmi=pm2_5*(50/50)\n",
    "    elif(pm2_5>50 and pm2_5<=100):\n",
    "     pmi=50+(pm2_5-50)*(50/50)\n",
    "    elif(pm2_5>100 and pm2_5<=250):\n",
    "     pmi= 100+(pm2_5-100)*(100/150)\n",
    "    elif(pm2_5>250 and pm2_5<=350):\n",
    "     pmi=200+(pm2_5-250)*(100/100)\n",
    "    elif(pm2_5>350 and pm2_5<=450):\n",
    "     pmi=300+(pm2_5-350)*(100/100)\n",
    "    else:\n",
    "     pmi=400+(pm2_5-430)*(100/80)\n",
    "    return pmi\n",
    "data['PMi']=data['pm2_5'].apply(cal_pmi)\n",
    "df= data[['pm2_5','PMi']]\n",
    "df.head()"
   ]
  },
  {
   "cell_type": "markdown",
   "metadata": {},
   "source": [
    "# CHECK LARGEST DOMINANT AQI \n",
    "\n",
    "Based on the measured ambient concentrations, corresponding standards and likely health impact, a sub-index is calculated for each of these pollutants. The worst sub-index reflects overall AQI.If multiple pollutants are measured at a monitoring site, then the largest or \"dominant\" AQI value is reported for the location"
   ]
  },
  {
   "cell_type": "code",
   "execution_count": 32,
   "metadata": {},
   "outputs": [
    {
     "data": {
      "text/html": [
       "<div>\n",
       "<style scoped>\n",
       "    .dataframe tbody tr th:only-of-type {\n",
       "        vertical-align: middle;\n",
       "    }\n",
       "\n",
       "    .dataframe tbody tr th {\n",
       "        vertical-align: top;\n",
       "    }\n",
       "\n",
       "    .dataframe thead th {\n",
       "        text-align: right;\n",
       "    }\n",
       "</style>\n",
       "<table border=\"1\" class=\"dataframe\">\n",
       "  <thead>\n",
       "    <tr style=\"text-align: right;\">\n",
       "      <th></th>\n",
       "      <th>state</th>\n",
       "      <th>SOi</th>\n",
       "      <th>Noi</th>\n",
       "      <th>RSPMi</th>\n",
       "      <th>SPMi</th>\n",
       "      <th>AQI</th>\n",
       "    </tr>\n",
       "  </thead>\n",
       "  <tbody>\n",
       "    <tr>\n",
       "      <th>0</th>\n",
       "      <td>Andhra Pradesh</td>\n",
       "      <td>6.000</td>\n",
       "      <td>21.750</td>\n",
       "      <td>78.182824</td>\n",
       "      <td>166.840252</td>\n",
       "      <td>166.840252</td>\n",
       "    </tr>\n",
       "    <tr>\n",
       "      <th>1</th>\n",
       "      <td>Andhra Pradesh</td>\n",
       "      <td>3.875</td>\n",
       "      <td>8.750</td>\n",
       "      <td>78.182824</td>\n",
       "      <td>166.840252</td>\n",
       "      <td>166.840252</td>\n",
       "    </tr>\n",
       "    <tr>\n",
       "      <th>2</th>\n",
       "      <td>Andhra Pradesh</td>\n",
       "      <td>7.750</td>\n",
       "      <td>35.625</td>\n",
       "      <td>78.182824</td>\n",
       "      <td>166.840252</td>\n",
       "      <td>166.840252</td>\n",
       "    </tr>\n",
       "    <tr>\n",
       "      <th>3</th>\n",
       "      <td>Andhra Pradesh</td>\n",
       "      <td>7.875</td>\n",
       "      <td>18.375</td>\n",
       "      <td>78.182824</td>\n",
       "      <td>166.840252</td>\n",
       "      <td>166.840252</td>\n",
       "    </tr>\n",
       "    <tr>\n",
       "      <th>4</th>\n",
       "      <td>Andhra Pradesh</td>\n",
       "      <td>5.875</td>\n",
       "      <td>9.375</td>\n",
       "      <td>78.182824</td>\n",
       "      <td>166.840252</td>\n",
       "      <td>166.840252</td>\n",
       "    </tr>\n",
       "  </tbody>\n",
       "</table>\n",
       "</div>"
      ],
      "text/plain": [
       "            state    SOi     Noi      RSPMi        SPMi         AQI\n",
       "0  Andhra Pradesh  6.000  21.750  78.182824  166.840252  166.840252\n",
       "1  Andhra Pradesh  3.875   8.750  78.182824  166.840252  166.840252\n",
       "2  Andhra Pradesh  7.750  35.625  78.182824  166.840252  166.840252\n",
       "3  Andhra Pradesh  7.875  18.375  78.182824  166.840252  166.840252\n",
       "4  Andhra Pradesh  5.875   9.375  78.182824  166.840252  166.840252"
      ]
     },
     "execution_count": 32,
     "metadata": {},
     "output_type": "execute_result"
    }
   ],
   "source": [
    "def cal_aqi(si,ni,rspmi,spmi):\n",
    "    aqi=0\n",
    "    if(si>ni and si>rspmi and si>spmi):\n",
    "     aqi=si\n",
    "    if(ni>si and ni>rspmi and ni>spmi ):\n",
    "     aqi=ni\n",
    "    if(rspmi>si and rspmi>ni and rspmi>spmi ):\n",
    "     aqi=rspmi\n",
    "    if(spmi>si and spmi>ni and spmi>rspmi):\n",
    "     aqi=spmi\n",
    "    return aqi\n",
    "\n",
    "data['AQI']=data.apply(lambda x:cal_aqi(x['SOi'],x['Noi'],x['RSPMi'],x['SPMi']),axis=1)\n",
    "df= data[['state','SOi','Noi','RSPMi','SPMi','AQI']]\n",
    "df.head()"
   ]
  },
  {
   "cell_type": "markdown",
   "metadata": {},
   "source": [
    "# AQI range"
   ]
  },
  {
   "cell_type": "code",
   "execution_count": 71,
   "metadata": {},
   "outputs": [
    {
     "data": {
      "text/html": [
       "<div>\n",
       "<style scoped>\n",
       "    .dataframe tbody tr th:only-of-type {\n",
       "        vertical-align: middle;\n",
       "    }\n",
       "\n",
       "    .dataframe tbody tr th {\n",
       "        vertical-align: top;\n",
       "    }\n",
       "\n",
       "    .dataframe thead th {\n",
       "        text-align: right;\n",
       "    }\n",
       "</style>\n",
       "<table border=\"1\" class=\"dataframe\">\n",
       "  <thead>\n",
       "    <tr style=\"text-align: right;\">\n",
       "      <th></th>\n",
       "      <th>state</th>\n",
       "      <th>location</th>\n",
       "      <th>type</th>\n",
       "      <th>so2</th>\n",
       "      <th>no2</th>\n",
       "      <th>rspm</th>\n",
       "      <th>spm</th>\n",
       "      <th>pm2_5</th>\n",
       "      <th>date</th>\n",
       "      <th>SOi</th>\n",
       "      <th>Noi</th>\n",
       "      <th>RSPMi</th>\n",
       "      <th>SPMi</th>\n",
       "      <th>PMi</th>\n",
       "      <th>AQI</th>\n",
       "      <th>AQI_Range</th>\n",
       "    </tr>\n",
       "  </thead>\n",
       "  <tbody>\n",
       "    <tr>\n",
       "      <th>64445</th>\n",
       "      <td>Dadra &amp; Nagar Haveli</td>\n",
       "      <td>Daman</td>\n",
       "      <td>NaN</td>\n",
       "      <td>5.2</td>\n",
       "      <td>6.1</td>\n",
       "      <td>76.53653</td>\n",
       "      <td>75.0</td>\n",
       "      <td>30.511628</td>\n",
       "      <td>6/1/1992</td>\n",
       "      <td>6.500</td>\n",
       "      <td>7.625</td>\n",
       "      <td>76.53653</td>\n",
       "      <td>75.0</td>\n",
       "      <td>30.511628</td>\n",
       "      <td>76.53653</td>\n",
       "      <td>Moderate</td>\n",
       "    </tr>\n",
       "    <tr>\n",
       "      <th>64446</th>\n",
       "      <td>Dadra &amp; Nagar Haveli</td>\n",
       "      <td>Daman</td>\n",
       "      <td>NaN</td>\n",
       "      <td>5.3</td>\n",
       "      <td>6.0</td>\n",
       "      <td>76.53653</td>\n",
       "      <td>70.0</td>\n",
       "      <td>30.511628</td>\n",
       "      <td>7/1/1992</td>\n",
       "      <td>6.625</td>\n",
       "      <td>7.500</td>\n",
       "      <td>76.53653</td>\n",
       "      <td>70.0</td>\n",
       "      <td>30.511628</td>\n",
       "      <td>76.53653</td>\n",
       "      <td>Moderate</td>\n",
       "    </tr>\n",
       "    <tr>\n",
       "      <th>64447</th>\n",
       "      <td>Dadra &amp; Nagar Haveli</td>\n",
       "      <td>Daman</td>\n",
       "      <td>NaN</td>\n",
       "      <td>6.2</td>\n",
       "      <td>7.2</td>\n",
       "      <td>76.53653</td>\n",
       "      <td>74.0</td>\n",
       "      <td>30.511628</td>\n",
       "      <td>8/1/1992</td>\n",
       "      <td>7.750</td>\n",
       "      <td>9.000</td>\n",
       "      <td>76.53653</td>\n",
       "      <td>74.0</td>\n",
       "      <td>30.511628</td>\n",
       "      <td>76.53653</td>\n",
       "      <td>Moderate</td>\n",
       "    </tr>\n",
       "    <tr>\n",
       "      <th>64448</th>\n",
       "      <td>Dadra &amp; Nagar Haveli</td>\n",
       "      <td>Daman</td>\n",
       "      <td>NaN</td>\n",
       "      <td>4.5</td>\n",
       "      <td>5.9</td>\n",
       "      <td>76.53653</td>\n",
       "      <td>75.0</td>\n",
       "      <td>30.511628</td>\n",
       "      <td>9/1/1992</td>\n",
       "      <td>5.625</td>\n",
       "      <td>7.375</td>\n",
       "      <td>76.53653</td>\n",
       "      <td>75.0</td>\n",
       "      <td>30.511628</td>\n",
       "      <td>76.53653</td>\n",
       "      <td>Moderate</td>\n",
       "    </tr>\n",
       "    <tr>\n",
       "      <th>64449</th>\n",
       "      <td>Dadra &amp; Nagar Haveli</td>\n",
       "      <td>Daman</td>\n",
       "      <td>NaN</td>\n",
       "      <td>4.8</td>\n",
       "      <td>6.4</td>\n",
       "      <td>76.53653</td>\n",
       "      <td>71.0</td>\n",
       "      <td>30.511628</td>\n",
       "      <td>10/1/1992</td>\n",
       "      <td>6.000</td>\n",
       "      <td>8.000</td>\n",
       "      <td>76.53653</td>\n",
       "      <td>71.0</td>\n",
       "      <td>30.511628</td>\n",
       "      <td>76.53653</td>\n",
       "      <td>Moderate</td>\n",
       "    </tr>\n",
       "  </tbody>\n",
       "</table>\n",
       "</div>"
      ],
      "text/plain": [
       "                      state location type  so2  no2      rspm   spm  \\\n",
       "64445  Dadra & Nagar Haveli    Daman  NaN  5.2  6.1  76.53653  75.0   \n",
       "64446  Dadra & Nagar Haveli    Daman  NaN  5.3  6.0  76.53653  70.0   \n",
       "64447  Dadra & Nagar Haveli    Daman  NaN  6.2  7.2  76.53653  74.0   \n",
       "64448  Dadra & Nagar Haveli    Daman  NaN  4.5  5.9  76.53653  75.0   \n",
       "64449  Dadra & Nagar Haveli    Daman  NaN  4.8  6.4  76.53653  71.0   \n",
       "\n",
       "           pm2_5       date    SOi    Noi     RSPMi  SPMi        PMi  \\\n",
       "64445  30.511628   6/1/1992  6.500  7.625  76.53653  75.0  30.511628   \n",
       "64446  30.511628   7/1/1992  6.625  7.500  76.53653  70.0  30.511628   \n",
       "64447  30.511628   8/1/1992  7.750  9.000  76.53653  74.0  30.511628   \n",
       "64448  30.511628   9/1/1992  5.625  7.375  76.53653  75.0  30.511628   \n",
       "64449  30.511628  10/1/1992  6.000  8.000  76.53653  71.0  30.511628   \n",
       "\n",
       "            AQI AQI_Range  \n",
       "64445  76.53653  Moderate  \n",
       "64446  76.53653  Moderate  \n",
       "64447  76.53653  Moderate  \n",
       "64448  76.53653  Moderate  \n",
       "64449  76.53653  Moderate  "
      ]
     },
     "execution_count": 71,
     "metadata": {},
     "output_type": "execute_result"
    }
   ],
   "source": [
    "def AQI_Range(x):\n",
    "    if x<=50:\n",
    "        return \"Good\"\n",
    "    elif x>50 and x<=100:\n",
    "        return \"Moderate\"\n",
    "    elif x>100 and x<=200:\n",
    "        return \"Poor and Unhealthy\"\n",
    "    elif x>200 and x<=300:\n",
    "        return \"Very Unhealthy\"\n",
    "    else:\n",
    "        return \"Hazardous\"\n",
    "\n",
    "data['AQI_Range'] = data['AQI'] .apply(AQI_Range)\n",
    "data.head()"
   ]
  },
  {
   "cell_type": "code",
   "execution_count": 72,
   "metadata": {},
   "outputs": [
    {
     "data": {
      "text/html": [
       "<div>\n",
       "<style scoped>\n",
       "    .dataframe tbody tr th:only-of-type {\n",
       "        vertical-align: middle;\n",
       "    }\n",
       "\n",
       "    .dataframe tbody tr th {\n",
       "        vertical-align: top;\n",
       "    }\n",
       "\n",
       "    .dataframe thead th {\n",
       "        text-align: right;\n",
       "    }\n",
       "</style>\n",
       "<table border=\"1\" class=\"dataframe\">\n",
       "  <thead>\n",
       "    <tr style=\"text-align: right;\">\n",
       "      <th></th>\n",
       "      <th>state</th>\n",
       "      <th>location</th>\n",
       "      <th>type</th>\n",
       "      <th>so2</th>\n",
       "      <th>no2</th>\n",
       "      <th>rspm</th>\n",
       "      <th>spm</th>\n",
       "      <th>pm2_5</th>\n",
       "      <th>date</th>\n",
       "      <th>SOi</th>\n",
       "      <th>Noi</th>\n",
       "      <th>RSPMi</th>\n",
       "      <th>SPMi</th>\n",
       "      <th>PMi</th>\n",
       "      <th>AQI</th>\n",
       "      <th>AQI_Range</th>\n",
       "    </tr>\n",
       "  </thead>\n",
       "  <tbody>\n",
       "    <tr>\n",
       "      <th>435734</th>\n",
       "      <td>West Bengal</td>\n",
       "      <td>ULUBERIA</td>\n",
       "      <td>RIRUO</td>\n",
       "      <td>20.0</td>\n",
       "      <td>44.0</td>\n",
       "      <td>148.0</td>\n",
       "      <td>233.506524</td>\n",
       "      <td>64.890625</td>\n",
       "      <td>12/15/2015</td>\n",
       "      <td>25.00</td>\n",
       "      <td>55.00</td>\n",
       "      <td>195.959184</td>\n",
       "      <td>189.004349</td>\n",
       "      <td>64.890625</td>\n",
       "      <td>195.959184</td>\n",
       "      <td>Poor and Unhealthy</td>\n",
       "    </tr>\n",
       "    <tr>\n",
       "      <th>435735</th>\n",
       "      <td>West Bengal</td>\n",
       "      <td>ULUBERIA</td>\n",
       "      <td>RIRUO</td>\n",
       "      <td>17.0</td>\n",
       "      <td>44.0</td>\n",
       "      <td>131.0</td>\n",
       "      <td>233.506524</td>\n",
       "      <td>64.890625</td>\n",
       "      <td>12/18/2015</td>\n",
       "      <td>21.25</td>\n",
       "      <td>55.00</td>\n",
       "      <td>161.612245</td>\n",
       "      <td>189.004349</td>\n",
       "      <td>64.890625</td>\n",
       "      <td>189.004349</td>\n",
       "      <td>Poor and Unhealthy</td>\n",
       "    </tr>\n",
       "    <tr>\n",
       "      <th>435736</th>\n",
       "      <td>West Bengal</td>\n",
       "      <td>ULUBERIA</td>\n",
       "      <td>RIRUO</td>\n",
       "      <td>18.0</td>\n",
       "      <td>45.0</td>\n",
       "      <td>140.0</td>\n",
       "      <td>233.506524</td>\n",
       "      <td>64.890625</td>\n",
       "      <td>12/21/2015</td>\n",
       "      <td>22.50</td>\n",
       "      <td>56.25</td>\n",
       "      <td>179.795918</td>\n",
       "      <td>189.004349</td>\n",
       "      <td>64.890625</td>\n",
       "      <td>189.004349</td>\n",
       "      <td>Poor and Unhealthy</td>\n",
       "    </tr>\n",
       "    <tr>\n",
       "      <th>435737</th>\n",
       "      <td>West Bengal</td>\n",
       "      <td>ULUBERIA</td>\n",
       "      <td>RIRUO</td>\n",
       "      <td>22.0</td>\n",
       "      <td>50.0</td>\n",
       "      <td>143.0</td>\n",
       "      <td>233.506524</td>\n",
       "      <td>64.890625</td>\n",
       "      <td>12/24/2015</td>\n",
       "      <td>27.50</td>\n",
       "      <td>62.50</td>\n",
       "      <td>185.857143</td>\n",
       "      <td>189.004349</td>\n",
       "      <td>64.890625</td>\n",
       "      <td>189.004349</td>\n",
       "      <td>Poor and Unhealthy</td>\n",
       "    </tr>\n",
       "    <tr>\n",
       "      <th>435738</th>\n",
       "      <td>West Bengal</td>\n",
       "      <td>ULUBERIA</td>\n",
       "      <td>RIRUO</td>\n",
       "      <td>20.0</td>\n",
       "      <td>46.0</td>\n",
       "      <td>171.0</td>\n",
       "      <td>233.506524</td>\n",
       "      <td>64.890625</td>\n",
       "      <td>12/29/2015</td>\n",
       "      <td>25.00</td>\n",
       "      <td>57.50</td>\n",
       "      <td>0.000000</td>\n",
       "      <td>189.004349</td>\n",
       "      <td>64.890625</td>\n",
       "      <td>189.004349</td>\n",
       "      <td>Poor and Unhealthy</td>\n",
       "    </tr>\n",
       "  </tbody>\n",
       "</table>\n",
       "</div>"
      ],
      "text/plain": [
       "              state  location   type   so2   no2   rspm         spm  \\\n",
       "435734  West Bengal  ULUBERIA  RIRUO  20.0  44.0  148.0  233.506524   \n",
       "435735  West Bengal  ULUBERIA  RIRUO  17.0  44.0  131.0  233.506524   \n",
       "435736  West Bengal  ULUBERIA  RIRUO  18.0  45.0  140.0  233.506524   \n",
       "435737  West Bengal  ULUBERIA  RIRUO  22.0  50.0  143.0  233.506524   \n",
       "435738  West Bengal  ULUBERIA  RIRUO  20.0  46.0  171.0  233.506524   \n",
       "\n",
       "            pm2_5        date    SOi    Noi       RSPMi        SPMi  \\\n",
       "435734  64.890625  12/15/2015  25.00  55.00  195.959184  189.004349   \n",
       "435735  64.890625  12/18/2015  21.25  55.00  161.612245  189.004349   \n",
       "435736  64.890625  12/21/2015  22.50  56.25  179.795918  189.004349   \n",
       "435737  64.890625  12/24/2015  27.50  62.50  185.857143  189.004349   \n",
       "435738  64.890625  12/29/2015  25.00  57.50    0.000000  189.004349   \n",
       "\n",
       "              PMi         AQI           AQI_Range  \n",
       "435734  64.890625  195.959184  Poor and Unhealthy  \n",
       "435735  64.890625  189.004349  Poor and Unhealthy  \n",
       "435736  64.890625  189.004349  Poor and Unhealthy  \n",
       "435737  64.890625  189.004349  Poor and Unhealthy  \n",
       "435738  64.890625  189.004349  Poor and Unhealthy  "
      ]
     },
     "execution_count": 72,
     "metadata": {},
     "output_type": "execute_result"
    }
   ],
   "source": [
    "data.tail()"
   ]
  },
  {
   "cell_type": "code",
   "execution_count": 73,
   "metadata": {},
   "outputs": [],
   "source": [
    "d = data\n"
   ]
  },
  {
   "cell_type": "markdown",
   "metadata": {},
   "source": [
    "Remove null values/rows"
   ]
  },
  {
   "cell_type": "code",
   "execution_count": 74,
   "metadata": {},
   "outputs": [],
   "source": [
    "data=data.dropna(subset=['spm']) #spm\n",
    "data=data.dropna(subset=['pm2_5']) #pm2.5"
   ]
  },
  {
   "cell_type": "code",
   "execution_count": 75,
   "metadata": {},
   "outputs": [
    {
     "data": {
      "text/plain": [
       "state           0\n",
       "location        0\n",
       "type         1925\n",
       "so2             0\n",
       "no2             0\n",
       "rspm            0\n",
       "spm             0\n",
       "pm2_5           0\n",
       "date            1\n",
       "SOi             0\n",
       "Noi             0\n",
       "RSPMi           0\n",
       "SPMi            0\n",
       "PMi             0\n",
       "AQI             0\n",
       "AQI_Range       0\n",
       "dtype: int64"
      ]
     },
     "execution_count": 75,
     "metadata": {},
     "output_type": "execute_result"
    }
   ],
   "source": [
    "data.isna().sum() #all null values removed "
   ]
  },
  {
   "cell_type": "markdown",
   "metadata": {},
   "source": [
    "## Prediction\n",
    "\n",
    "# Using linear regression\n",
    "- Using SOi, NOi, RSPMi, SPMi TO PREDICT AQI"
   ]
  },
  {
   "cell_type": "code",
   "execution_count": 38,
   "metadata": {},
   "outputs": [],
   "source": [
    "from sklearn.model_selection import train_test_split\n",
    "from sklearn.linear_model import LinearRegression\n",
    "from sklearn.metrics import mean_squared_log_error\n",
    "from sklearn.metrics import mean_squared_error\n",
    "from sklearn.metrics import r2_score, mean_squared_error\n",
    "from sklearn.model_selection import KFold\n",
    "from sklearn.model_selection import cross_val_score"
   ]
  },
  {
   "cell_type": "code",
   "execution_count": 76,
   "metadata": {},
   "outputs": [
    {
     "data": {
      "text/plain": [
       "64445    76.53653\n",
       "64446    76.53653\n",
       "64447    76.53653\n",
       "64448    76.53653\n",
       "64449    76.53653\n",
       "Name: AQI, dtype: float64"
      ]
     },
     "execution_count": 76,
     "metadata": {},
     "output_type": "execute_result"
    }
   ],
   "source": [
    "X = data[['SOi','Noi','RSPMi','SPMi']]\n",
    "y = data['AQI']\n",
    "y.head()"
   ]
  },
  {
   "cell_type": "code",
   "execution_count": 77,
   "metadata": {},
   "outputs": [
    {
     "data": {
      "text/html": [
       "<div>\n",
       "<style scoped>\n",
       "    .dataframe tbody tr th:only-of-type {\n",
       "        vertical-align: middle;\n",
       "    }\n",
       "\n",
       "    .dataframe tbody tr th {\n",
       "        vertical-align: top;\n",
       "    }\n",
       "\n",
       "    .dataframe thead th {\n",
       "        text-align: right;\n",
       "    }\n",
       "</style>\n",
       "<table border=\"1\" class=\"dataframe\">\n",
       "  <thead>\n",
       "    <tr style=\"text-align: right;\">\n",
       "      <th></th>\n",
       "      <th>SOi</th>\n",
       "      <th>Noi</th>\n",
       "      <th>RSPMi</th>\n",
       "      <th>SPMi</th>\n",
       "    </tr>\n",
       "  </thead>\n",
       "  <tbody>\n",
       "    <tr>\n",
       "      <th>360028</th>\n",
       "      <td>3.750</td>\n",
       "      <td>40.000</td>\n",
       "      <td>51.000000</td>\n",
       "      <td>117.819376</td>\n",
       "    </tr>\n",
       "    <tr>\n",
       "      <th>434684</th>\n",
       "      <td>2.500</td>\n",
       "      <td>46.250</td>\n",
       "      <td>87.000000</td>\n",
       "      <td>189.004349</td>\n",
       "    </tr>\n",
       "    <tr>\n",
       "      <th>64493</th>\n",
       "      <td>13.250</td>\n",
       "      <td>23.375</td>\n",
       "      <td>115.142857</td>\n",
       "      <td>210.000000</td>\n",
       "    </tr>\n",
       "    <tr>\n",
       "      <th>433906</th>\n",
       "      <td>5.000</td>\n",
       "      <td>55.000</td>\n",
       "      <td>115.142857</td>\n",
       "      <td>189.004349</td>\n",
       "    </tr>\n",
       "    <tr>\n",
       "      <th>183595</th>\n",
       "      <td>34.375</td>\n",
       "      <td>26.000</td>\n",
       "      <td>91.000000</td>\n",
       "      <td>106.000000</td>\n",
       "    </tr>\n",
       "  </tbody>\n",
       "</table>\n",
       "</div>"
      ],
      "text/plain": [
       "           SOi     Noi       RSPMi        SPMi\n",
       "360028   3.750  40.000   51.000000  117.819376\n",
       "434684   2.500  46.250   87.000000  189.004349\n",
       "64493   13.250  23.375  115.142857  210.000000\n",
       "433906   5.000  55.000  115.142857  189.004349\n",
       "183595  34.375  26.000   91.000000  106.000000"
      ]
     },
     "execution_count": 77,
     "metadata": {},
     "output_type": "execute_result"
    }
   ],
   "source": [
    "X_train, X_test, y_train, y_test = train_test_split(X,y, test_size=0.2,random_state=101)\n",
    "X_train.head()"
   ]
  },
  {
   "cell_type": "code",
   "execution_count": 78,
   "metadata": {},
   "outputs": [
    {
     "data": {
      "text/plain": [
       "LinearRegression()"
      ]
     },
     "execution_count": 78,
     "metadata": {},
     "output_type": "execute_result"
    }
   ],
   "source": [
    "LR = LinearRegression() \n",
    "LR.fit(X_train, y_train)"
   ]
  },
  {
   "cell_type": "code",
   "execution_count": 79,
   "metadata": {},
   "outputs": [
    {
     "name": "stdout",
     "output_type": "stream",
     "text": [
      "Intercept 4.168841608262909\n"
     ]
    }
   ],
   "source": [
    "print('Intercept',LR.intercept_)"
   ]
  },
  {
   "cell_type": "code",
   "execution_count": 80,
   "metadata": {},
   "outputs": [
    {
     "name": "stdout",
     "output_type": "stream",
     "text": [
      "Coefficients [0.02669704 0.06811693 0.05053633 0.9544088 ]\n"
     ]
    }
   ],
   "source": [
    "print('Coefficients',LR.coef_)"
   ]
  },
  {
   "cell_type": "code",
   "execution_count": 81,
   "metadata": {},
   "outputs": [],
   "source": [
    "predictions = LR.predict(X_test)"
   ]
  },
  {
   "cell_type": "code",
   "execution_count": 82,
   "metadata": {},
   "outputs": [
    {
     "data": {
      "text/plain": [
       "Text(0, 0.5, 'Predicted Y')"
      ]
     },
     "execution_count": 82,
     "metadata": {},
     "output_type": "execute_result"
    },
    {
     "data": {
      "image/png": "[encoded data removed]",
      "text/plain": [
       "<Figure size 432x288 with 1 Axes>"
      ]
     },
     "metadata": {
      "needs_background": "light"
     },
     "output_type": "display_data"
    }
   ],
   "source": [
    "plt.scatter(y_test,predictions)\n",
    "plt.xlabel('Y Test')\n",
    "plt.ylabel('Predicted Y')"
   ]
  },
  {
   "cell_type": "code",
   "execution_count": 83,
   "metadata": {},
   "outputs": [
    {
     "data": {
      "text/plain": [
       "0.9791014082309275"
      ]
     },
     "execution_count": 83,
     "metadata": {},
     "output_type": "execute_result"
    }
   ],
   "source": [
    "LR.score(X_test,y_test) "
   ]
  },
  {
   "cell_type": "code",
   "execution_count": 84,
   "metadata": {},
   "outputs": [
    {
     "name": "stderr",
     "output_type": "stream",
     "text": [
      "C:\\Python39\\lib\\site-packages\\sklearn\\base.py:450: UserWarning: X does not have valid feature names, but LinearRegression was fitted with feature names\n",
      "  warnings.warn(\n"
     ]
    },
    {
     "data": {
      "text/plain": [
       "array([105.17034145])"
      ]
     },
     "execution_count": 84,
     "metadata": {},
     "output_type": "execute_result"
    }
   ],
   "source": [
    "LR.predict([[4.8,21.75,78.18,100]]) "
   ]
  },
  {
   "cell_type": "code",
   "execution_count": 85,
   "metadata": {},
   "outputs": [
    {
     "name": "stderr",
     "output_type": "stream",
     "text": [
      "C:\\Python39\\lib\\site-packages\\sklearn\\base.py:450: UserWarning: X does not have valid feature names, but LinearRegression was fitted with feature names\n",
      "  warnings.warn(\n"
     ]
    },
    {
     "data": {
      "text/plain": [
       "array([80.27526359])"
      ]
     },
     "execution_count": 85,
     "metadata": {},
     "output_type": "execute_result"
    }
   ],
   "source": [
    "LR.predict([[5.2,7.625,76.53,75.0]])"
   ]
  },
  {
   "cell_type": "code",
   "execution_count": 86,
   "metadata": {},
   "outputs": [
    {
     "name": "stderr",
     "output_type": "stream",
     "text": [
      "C:\\Python39\\lib\\site-packages\\seaborn\\_decorators.py:36: FutureWarning: Pass the following variables as keyword args: x, y. From version 0.12, the only valid positional argument will be `data`, and passing other arguments without an explicit keyword will result in an error or misinterpretation.\n",
      "  warnings.warn(\n"
     ]
    },
    {
     "data": {
      "text/plain": [
       "<AxesSubplot:xlabel='AQI'>"
      ]
     },
     "execution_count": 86,
     "metadata": {},
     "output_type": "execute_result"
    },
    {
     "data": {
      "image/png": "[encoded data removed]",
      "text/plain": [
       "<Figure size 432x288 with 1 Axes>"
      ]
     },
     "metadata": {
      "needs_background": "light"
     },
     "output_type": "display_data"
    }
   ],
   "source": [
    "sns.regplot(y_test,predictions)"
   ]
  },
  {
   "cell_type": "code",
   "execution_count": 87,
   "metadata": {},
   "outputs": [
    {
     "name": "stdout",
     "output_type": "stream",
     "text": [
      "R^2_Square:0.98 \n",
      "MSE:12.58 \n"
     ]
    }
   ],
   "source": [
    "print('R^2_Square:%.2f '% r2_score(y_test, predictions))\n",
    "print('MSE:%.2f '% np.sqrt(mean_squared_error(y_test, predictions)))"
   ]
  },
  {
   "cell_type": "markdown",
   "metadata": {},
   "source": [
    "# Using linear regression -2\n",
    "\n",
    "- Using so2, no2, rspm, spm\n"
   ]
  },
  {
   "cell_type": "code",
   "execution_count": 88,
   "metadata": {},
   "outputs": [
    {
     "data": {
      "text/plain": [
       "435734    195.959184\n",
       "435735    189.004349\n",
       "435736    189.004349\n",
       "435737    189.004349\n",
       "435738    189.004349\n",
       "Name: AQI, dtype: float64"
      ]
     },
     "execution_count": 88,
     "metadata": {},
     "output_type": "execute_result"
    }
   ],
   "source": [
    "X1= data[['so2','no2','rspm','spm']]\n",
    "y1 = data['AQI']\n",
    "y.tail()"
   ]
  },
  {
   "cell_type": "code",
   "execution_count": 89,
   "metadata": {},
   "outputs": [
    {
     "data": {
      "text/html": [
       "<div>\n",
       "<style scoped>\n",
       "    .dataframe tbody tr th:only-of-type {\n",
       "        vertical-align: middle;\n",
       "    }\n",
       "\n",
       "    .dataframe tbody tr th {\n",
       "        vertical-align: top;\n",
       "    }\n",
       "\n",
       "    .dataframe thead th {\n",
       "        text-align: right;\n",
       "    }\n",
       "</style>\n",
       "<table border=\"1\" class=\"dataframe\">\n",
       "  <thead>\n",
       "    <tr style=\"text-align: right;\">\n",
       "      <th></th>\n",
       "      <th>so2</th>\n",
       "      <th>no2</th>\n",
       "      <th>rspm</th>\n",
       "      <th>spm</th>\n",
       "    </tr>\n",
       "  </thead>\n",
       "  <tbody>\n",
       "    <tr>\n",
       "      <th>360028</th>\n",
       "      <td>3.0</td>\n",
       "      <td>32.0</td>\n",
       "      <td>51.0</td>\n",
       "      <td>126.729064</td>\n",
       "    </tr>\n",
       "    <tr>\n",
       "      <th>434684</th>\n",
       "      <td>2.0</td>\n",
       "      <td>37.0</td>\n",
       "      <td>87.0</td>\n",
       "      <td>233.506524</td>\n",
       "    </tr>\n",
       "    <tr>\n",
       "      <th>64493</th>\n",
       "      <td>10.6</td>\n",
       "      <td>18.7</td>\n",
       "      <td>108.0</td>\n",
       "      <td>260.000000</td>\n",
       "    </tr>\n",
       "    <tr>\n",
       "      <th>433906</th>\n",
       "      <td>4.0</td>\n",
       "      <td>44.0</td>\n",
       "      <td>108.0</td>\n",
       "      <td>233.506524</td>\n",
       "    </tr>\n",
       "    <tr>\n",
       "      <th>183595</th>\n",
       "      <td>27.5</td>\n",
       "      <td>20.8</td>\n",
       "      <td>91.0</td>\n",
       "      <td>109.000000</td>\n",
       "    </tr>\n",
       "  </tbody>\n",
       "</table>\n",
       "</div>"
      ],
      "text/plain": [
       "         so2   no2   rspm         spm\n",
       "360028   3.0  32.0   51.0  126.729064\n",
       "434684   2.0  37.0   87.0  233.506524\n",
       "64493   10.6  18.7  108.0  260.000000\n",
       "433906   4.0  44.0  108.0  233.506524\n",
       "183595  27.5  20.8   91.0  109.000000"
      ]
     },
     "execution_count": 89,
     "metadata": {},
     "output_type": "execute_result"
    }
   ],
   "source": [
    "X_train1, X_test1, y_train1, y_test1 = train_test_split(X1,y1, test_size=0.2,random_state=101)\n",
    "X_train1.head()"
   ]
  },
  {
   "cell_type": "code",
   "execution_count": 90,
   "metadata": {},
   "outputs": [
    {
     "data": {
      "text/plain": [
       "LinearRegression()"
      ]
     },
     "execution_count": 90,
     "metadata": {},
     "output_type": "execute_result"
    }
   ],
   "source": [
    "LR1 = LinearRegression()\n",
    "LR1.fit(X_train1, y_train1)"
   ]
  },
  {
   "cell_type": "code",
   "execution_count": 91,
   "metadata": {},
   "outputs": [],
   "source": [
    "prediction1 = LR1.predict(X_test1)"
   ]
  },
  {
   "cell_type": "code",
   "execution_count": 92,
   "metadata": {},
   "outputs": [
    {
     "data": {
      "text/plain": [
       "Text(0, 0.5, 'Predicted Y')"
      ]
     },
     "execution_count": 92,
     "metadata": {},
     "output_type": "execute_result"
    },
    {
     "data": {
      "image/png": "[encoded data removed]",
      "text/plain": [
       "<Figure size 432x288 with 1 Axes>"
      ]
     },
     "metadata": {
      "needs_background": "light"
     },
     "output_type": "display_data"
    }
   ],
   "source": [
    "plt.scatter(y_test1,prediction1) #scatter plot for actual and predicted values\n",
    "plt.xlabel('Y Test')\n",
    "plt.ylabel('Predicted Y')"
   ]
  },
  {
   "cell_type": "code",
   "execution_count": 93,
   "metadata": {},
   "outputs": [
    {
     "name": "stderr",
     "output_type": "stream",
     "text": [
      "C:\\Python39\\lib\\site-packages\\sklearn\\base.py:450: UserWarning: X does not have valid feature names, but LinearRegression was fitted with feature names\n",
      "  warnings.warn(\n"
     ]
    },
    {
     "data": {
      "text/plain": [
       "array([154.79655317])"
      ]
     },
     "execution_count": 93,
     "metadata": {},
     "output_type": "execute_result"
    }
   ],
   "source": [
    "LR1.predict([[9.1,16.3,67,179]])"
   ]
  },
  {
   "cell_type": "code",
   "execution_count": 94,
   "metadata": {},
   "outputs": [
    {
     "name": "stderr",
     "output_type": "stream",
     "text": [
      "C:\\Python39\\lib\\site-packages\\seaborn\\_decorators.py:36: FutureWarning: Pass the following variables as keyword args: x, y. From version 0.12, the only valid positional argument will be `data`, and passing other arguments without an explicit keyword will result in an error or misinterpretation.\n",
      "  warnings.warn(\n"
     ]
    },
    {
     "data": {
      "text/plain": [
       "<AxesSubplot:xlabel='AQI'>"
      ]
     },
     "execution_count": 94,
     "metadata": {},
     "output_type": "execute_result"
    },
    {
     "data": {
      "image/png": "[encoded data removed]",
      "text/plain": [
       "<Figure size 432x288 with 1 Axes>"
      ]
     },
     "metadata": {
      "needs_background": "light"
     },
     "output_type": "display_data"
    }
   ],
   "source": [
    "sns.regplot(y_test1,prediction1) #regression plot"
   ]
  },
  {
   "cell_type": "code",
   "execution_count": 95,
   "metadata": {},
   "outputs": [],
   "source": [
    "y_test1_np= np.array(y_test1)\n",
    "prediction1_np = np.array(prediction1)"
   ]
  },
  {
   "cell_type": "code",
   "execution_count": 96,
   "metadata": {},
   "outputs": [
    {
     "data": {
      "text/plain": [
       "0.9433954748037253"
      ]
     },
     "execution_count": 96,
     "metadata": {},
     "output_type": "execute_result"
    }
   ],
   "source": [
    "LR1.score(X_test1,y_test1) #accuracy score 94.3%"
   ]
  },
  {
   "cell_type": "code",
   "execution_count": 97,
   "metadata": {},
   "outputs": [
    {
     "name": "stdout",
     "output_type": "stream",
     "text": [
      "R^2_Square:0.94 \n",
      "MSE:20.71 \n"
     ]
    }
   ],
   "source": [
    "print('R^2_Square:%.2f '% r2_score(y_test1, prediction1))\n",
    "print('MSE:%.2f '% np.sqrt(mean_squared_error(y_test1, prediction1)))"
   ]
  },
  {
   "cell_type": "markdown",
   "metadata": {},
   "source": [
    "# AQI Classification\n",
    "\n",
    "Logistic Regression\n",
    "\n",
    "- Using SOi, Noi, RSPMi, SPMi"
   ]
  },
  {
   "cell_type": "code",
   "execution_count": 98,
   "metadata": {},
   "outputs": [],
   "source": [
    "from sklearn.linear_model import LogisticRegression"
   ]
  },
  {
   "cell_type": "code",
   "execution_count": 101,
   "metadata": {},
   "outputs": [],
   "source": [
    "X2 = data[['SOi','Noi','RSPMi','SPMi']]\n",
    "y2 = data['AQI_Range']"
   ]
  },
  {
   "cell_type": "code",
   "execution_count": 102,
   "metadata": {},
   "outputs": [],
   "source": [
    "X_train2, X_test2, y_train2, y_test2 = train_test_split(X2, y2, test_size=0.30, random_state=42)\n"
   ]
  },
  {
   "cell_type": "code",
   "execution_count": 103,
   "metadata": {},
   "outputs": [
    {
     "data": {
      "text/plain": [
       "LogisticRegression(max_iter=4000)"
      ]
     },
     "execution_count": 103,
     "metadata": {},
     "output_type": "execute_result"
    }
   ],
   "source": [
    "logmodel = LogisticRegression(solver='lbfgs', max_iter=4000)\n",
    "logmodel.fit(X_train2,y_train2)"
   ]
  },
  {
   "cell_type": "code",
   "execution_count": 104,
   "metadata": {},
   "outputs": [],
   "source": [
    "predictions = logmodel.predict(X_test)"
   ]
  },
  {
   "cell_type": "code",
   "execution_count": 105,
   "metadata": {},
   "outputs": [],
   "source": [
    "new = pd.DataFrame(d)\n",
    "file1 = 'aqi.csv'\n",
    "new.to_csv(file1,index=True)"
   ]
  },
  {
   "cell_type": "code",
   "execution_count": 106,
   "metadata": {},
   "outputs": [
    {
     "data": {
      "text/html": [
       "<div>\n",
       "<style scoped>\n",
       "    .dataframe tbody tr th:only-of-type {\n",
       "        vertical-align: middle;\n",
       "    }\n",
       "\n",
       "    .dataframe tbody tr th {\n",
       "        vertical-align: top;\n",
       "    }\n",
       "\n",
       "    .dataframe thead th {\n",
       "        text-align: right;\n",
       "    }\n",
       "</style>\n",
       "<table border=\"1\" class=\"dataframe\">\n",
       "  <thead>\n",
       "    <tr style=\"text-align: right;\">\n",
       "      <th></th>\n",
       "      <th>state</th>\n",
       "      <th>location</th>\n",
       "      <th>type</th>\n",
       "      <th>so2</th>\n",
       "      <th>no2</th>\n",
       "      <th>rspm</th>\n",
       "      <th>spm</th>\n",
       "      <th>pm2_5</th>\n",
       "      <th>date</th>\n",
       "      <th>SOi</th>\n",
       "      <th>Noi</th>\n",
       "      <th>RSPMi</th>\n",
       "      <th>SPMi</th>\n",
       "      <th>PMi</th>\n",
       "      <th>AQI</th>\n",
       "      <th>AQI_Range</th>\n",
       "    </tr>\n",
       "  </thead>\n",
       "  <tbody>\n",
       "    <tr>\n",
       "      <th>435734</th>\n",
       "      <td>West Bengal</td>\n",
       "      <td>ULUBERIA</td>\n",
       "      <td>RIRUO</td>\n",
       "      <td>20.0</td>\n",
       "      <td>44.0</td>\n",
       "      <td>148.0</td>\n",
       "      <td>233.506524</td>\n",
       "      <td>64.890625</td>\n",
       "      <td>12/15/2015</td>\n",
       "      <td>25.00</td>\n",
       "      <td>55.00</td>\n",
       "      <td>195.959184</td>\n",
       "      <td>189.004349</td>\n",
       "      <td>64.890625</td>\n",
       "      <td>195.959184</td>\n",
       "      <td>Poor and Unhealthy</td>\n",
       "    </tr>\n",
       "    <tr>\n",
       "      <th>435735</th>\n",
       "      <td>West Bengal</td>\n",
       "      <td>ULUBERIA</td>\n",
       "      <td>RIRUO</td>\n",
       "      <td>17.0</td>\n",
       "      <td>44.0</td>\n",
       "      <td>131.0</td>\n",
       "      <td>233.506524</td>\n",
       "      <td>64.890625</td>\n",
       "      <td>12/18/2015</td>\n",
       "      <td>21.25</td>\n",
       "      <td>55.00</td>\n",
       "      <td>161.612245</td>\n",
       "      <td>189.004349</td>\n",
       "      <td>64.890625</td>\n",
       "      <td>189.004349</td>\n",
       "      <td>Poor and Unhealthy</td>\n",
       "    </tr>\n",
       "    <tr>\n",
       "      <th>435736</th>\n",
       "      <td>West Bengal</td>\n",
       "      <td>ULUBERIA</td>\n",
       "      <td>RIRUO</td>\n",
       "      <td>18.0</td>\n",
       "      <td>45.0</td>\n",
       "      <td>140.0</td>\n",
       "      <td>233.506524</td>\n",
       "      <td>64.890625</td>\n",
       "      <td>12/21/2015</td>\n",
       "      <td>22.50</td>\n",
       "      <td>56.25</td>\n",
       "      <td>179.795918</td>\n",
       "      <td>189.004349</td>\n",
       "      <td>64.890625</td>\n",
       "      <td>189.004349</td>\n",
       "      <td>Poor and Unhealthy</td>\n",
       "    </tr>\n",
       "    <tr>\n",
       "      <th>435737</th>\n",
       "      <td>West Bengal</td>\n",
       "      <td>ULUBERIA</td>\n",
       "      <td>RIRUO</td>\n",
       "      <td>22.0</td>\n",
       "      <td>50.0</td>\n",
       "      <td>143.0</td>\n",
       "      <td>233.506524</td>\n",
       "      <td>64.890625</td>\n",
       "      <td>12/24/2015</td>\n",
       "      <td>27.50</td>\n",
       "      <td>62.50</td>\n",
       "      <td>185.857143</td>\n",
       "      <td>189.004349</td>\n",
       "      <td>64.890625</td>\n",
       "      <td>189.004349</td>\n",
       "      <td>Poor and Unhealthy</td>\n",
       "    </tr>\n",
       "    <tr>\n",
       "      <th>435738</th>\n",
       "      <td>West Bengal</td>\n",
       "      <td>ULUBERIA</td>\n",
       "      <td>RIRUO</td>\n",
       "      <td>20.0</td>\n",
       "      <td>46.0</td>\n",
       "      <td>171.0</td>\n",
       "      <td>233.506524</td>\n",
       "      <td>64.890625</td>\n",
       "      <td>12/29/2015</td>\n",
       "      <td>25.00</td>\n",
       "      <td>57.50</td>\n",
       "      <td>0.000000</td>\n",
       "      <td>189.004349</td>\n",
       "      <td>64.890625</td>\n",
       "      <td>189.004349</td>\n",
       "      <td>Poor and Unhealthy</td>\n",
       "    </tr>\n",
       "  </tbody>\n",
       "</table>\n",
       "</div>"
      ],
      "text/plain": [
       "              state  location   type   so2   no2   rspm         spm  \\\n",
       "435734  West Bengal  ULUBERIA  RIRUO  20.0  44.0  148.0  233.506524   \n",
       "435735  West Bengal  ULUBERIA  RIRUO  17.0  44.0  131.0  233.506524   \n",
       "435736  West Bengal  ULUBERIA  RIRUO  18.0  45.0  140.0  233.506524   \n",
       "435737  West Bengal  ULUBERIA  RIRUO  22.0  50.0  143.0  233.506524   \n",
       "435738  West Bengal  ULUBERIA  RIRUO  20.0  46.0  171.0  233.506524   \n",
       "\n",
       "            pm2_5        date    SOi    Noi       RSPMi        SPMi  \\\n",
       "435734  64.890625  12/15/2015  25.00  55.00  195.959184  189.004349   \n",
       "435735  64.890625  12/18/2015  21.25  55.00  161.612245  189.004349   \n",
       "435736  64.890625  12/21/2015  22.50  56.25  179.795918  189.004349   \n",
       "435737  64.890625  12/24/2015  27.50  62.50  185.857143  189.004349   \n",
       "435738  64.890625  12/29/2015  25.00  57.50    0.000000  189.004349   \n",
       "\n",
       "              PMi         AQI           AQI_Range  \n",
       "435734  64.890625  195.959184  Poor and Unhealthy  \n",
       "435735  64.890625  189.004349  Poor and Unhealthy  \n",
       "435736  64.890625  189.004349  Poor and Unhealthy  \n",
       "435737  64.890625  189.004349  Poor and Unhealthy  \n",
       "435738  64.890625  189.004349  Poor and Unhealthy  "
      ]
     },
     "execution_count": 106,
     "metadata": {},
     "output_type": "execute_result"
    }
   ],
   "source": [
    "d.tail()"
   ]
  },
  {
   "cell_type": "code",
   "execution_count": 107,
   "metadata": {},
   "outputs": [
    {
     "name": "stderr",
     "output_type": "stream",
     "text": [
      "C:\\Python39\\lib\\site-packages\\sklearn\\base.py:450: UserWarning: X does not have valid feature names, but LogisticRegression was fitted with feature names\n",
      "  warnings.warn(\n"
     ]
    },
    {
     "data": {
      "text/plain": [
       "array(['Poor and Unhealthy'], dtype=object)"
      ]
     },
     "execution_count": 107,
     "metadata": {},
     "output_type": "execute_result"
    }
   ],
   "source": [
    "logmodel.predict([[77.4,147.7,78.182,100]]) #correct"
   ]
  },
  {
   "cell_type": "code",
   "execution_count": 108,
   "metadata": {},
   "outputs": [
    {
     "name": "stderr",
     "output_type": "stream",
     "text": [
      "C:\\Python39\\lib\\site-packages\\sklearn\\base.py:450: UserWarning: X does not have valid feature names, but LogisticRegression was fitted with feature names\n",
      "  warnings.warn(\n"
     ]
    },
    {
     "data": {
      "text/plain": [
       "array(['Poor and Unhealthy'], dtype=object)"
      ]
     },
     "execution_count": 108,
     "metadata": {},
     "output_type": "execute_result"
    }
   ],
   "source": [
    "logmodel.predict([[32.7,35,78.182,103]]) #correct"
   ]
  },
  {
   "cell_type": "code",
   "execution_count": 109,
   "metadata": {},
   "outputs": [
    {
     "name": "stderr",
     "output_type": "stream",
     "text": [
      "C:\\Python39\\lib\\site-packages\\sklearn\\base.py:450: UserWarning: X does not have valid feature names, but LogisticRegression was fitted with feature names\n",
      "  warnings.warn(\n"
     ]
    },
    {
     "data": {
      "text/plain": [
       "array(['Hazardous'], dtype=object)"
      ]
     },
     "execution_count": 109,
     "metadata": {},
     "output_type": "execute_result"
    }
   ],
   "source": [
    "logmodel.predict([[100,182.2,78.182,400]]) #correct"
   ]
  },
  {
   "cell_type": "code",
   "execution_count": null,
   "metadata": {},
   "outputs": [],
   "source": []
  },
  {
   "cell_type": "markdown",
   "metadata": {},
   "source": [
    "# Logistic regression model 2\n",
    "2.Using so2,no2,rspm,spm"
   ]
  },
  {
   "cell_type": "code",
   "execution_count": 110,
   "metadata": {},
   "outputs": [],
   "source": [
    "X3 = data[['so2','no2','rspm','spm']]\n",
    "y3 = data['AQI_Range']"
   ]
  },
  {
   "cell_type": "code",
   "execution_count": 111,
   "metadata": {},
   "outputs": [],
   "source": [
    "X_train3, X_test3, y_train3, y_test3 = train_test_split(X3, y3, test_size=0.33, random_state=42)"
   ]
  },
  {
   "cell_type": "code",
   "execution_count": 112,
   "metadata": {},
   "outputs": [
    {
     "name": "stderr",
     "output_type": "stream",
     "text": [
      "C:\\Python39\\lib\\site-packages\\sklearn\\linear_model\\_logistic.py:814: ConvergenceWarning: lbfgs failed to converge (status=1):\n",
      "STOP: TOTAL NO. of ITERATIONS REACHED LIMIT.\n",
      "\n",
      "Increase the number of iterations (max_iter) or scale the data as shown in:\n",
      "    https://scikit-learn.org/stable/modules/preprocessing.html\n",
      "Please also refer to the documentation for alternative solver options:\n",
      "    https://scikit-learn.org/stable/modules/linear_model.html#logistic-regression\n",
      "  n_iter_i = _check_optimize_result(\n"
     ]
    },
    {
     "data": {
      "text/plain": [
       "LogisticRegression()"
      ]
     },
     "execution_count": 112,
     "metadata": {},
     "output_type": "execute_result"
    }
   ],
   "source": [
    "logmodel2 = LogisticRegression()\n",
    "logmodel2.fit(X_train3,y_train3)"
   ]
  },
  {
   "cell_type": "code",
   "execution_count": 113,
   "metadata": {},
   "outputs": [
    {
     "data": {
      "text/plain": [
       "0.7142893304644982"
      ]
     },
     "execution_count": 113,
     "metadata": {},
     "output_type": "execute_result"
    }
   ],
   "source": [
    "logmodel2.score(X_test3,y_test3)"
   ]
  },
  {
   "cell_type": "code",
   "execution_count": 114,
   "metadata": {},
   "outputs": [
    {
     "name": "stderr",
     "output_type": "stream",
     "text": [
      "C:\\Python39\\lib\\site-packages\\sklearn\\base.py:450: UserWarning: X does not have valid feature names, but LogisticRegression was fitted with feature names\n",
      "  warnings.warn(\n"
     ]
    },
    {
     "data": {
      "text/plain": [
       "array(['Poor and Unhealthy'], dtype=object)"
      ]
     },
     "execution_count": 114,
     "metadata": {},
     "output_type": "execute_result"
    }
   ],
   "source": [
    "logmodel2.predict([[4.8,17.4,78.48,200]])"
   ]
  },
  {
   "cell_type": "code",
   "execution_count": 115,
   "metadata": {},
   "outputs": [
    {
     "name": "stderr",
     "output_type": "stream",
     "text": [
      "C:\\Python39\\lib\\site-packages\\sklearn\\base.py:450: UserWarning: X does not have valid feature names, but LogisticRegression was fitted with feature names\n",
      "  warnings.warn(\n"
     ]
    },
    {
     "data": {
      "text/plain": [
       "array(['Poor and Unhealthy'], dtype=object)"
      ]
     },
     "execution_count": 115,
     "metadata": {},
     "output_type": "execute_result"
    }
   ],
   "source": [
    "logmodel2.predict([[67.4,127.7,78.48,215]])"
   ]
  },
  {
   "cell_type": "code",
   "execution_count": 116,
   "metadata": {},
   "outputs": [
    {
     "name": "stderr",
     "output_type": "stream",
     "text": [
      "C:\\Python39\\lib\\site-packages\\sklearn\\base.py:450: UserWarning: X does not have valid feature names, but LogisticRegression was fitted with feature names\n",
      "  warnings.warn(\n"
     ]
    },
    {
     "data": {
      "text/plain": [
       "array(['Hazardous'], dtype=object)"
      ]
     },
     "execution_count": 116,
     "metadata": {},
     "output_type": "execute_result"
    }
   ],
   "source": [
    "logmodel2.predict([[2.059,8.94,102,256]])"
   ]
  },
  {
   "cell_type": "markdown",
   "metadata": {},
   "source": [
    "# Random Forest Classifier"
   ]
  },
  {
   "cell_type": "code",
   "execution_count": 117,
   "metadata": {},
   "outputs": [],
   "source": [
    "from sklearn.ensemble import RandomForestClassifier"
   ]
  },
  {
   "cell_type": "code",
   "execution_count": 118,
   "metadata": {},
   "outputs": [
    {
     "data": {
      "text/plain": [
       "RandomForestClassifier(n_estimators=10)"
      ]
     },
     "execution_count": 118,
     "metadata": {},
     "output_type": "execute_result"
    }
   ],
   "source": [
    "model = RandomForestClassifier(n_estimators=10)\n",
    "model.fit(X_train3,y_train3)"
   ]
  },
  {
   "cell_type": "code",
   "execution_count": 119,
   "metadata": {},
   "outputs": [
    {
     "data": {
      "text/plain": [
       "0.9997974939881028"
      ]
     },
     "execution_count": 119,
     "metadata": {},
     "output_type": "execute_result"
    }
   ],
   "source": [
    "model.score(X_test3,y_test3)"
   ]
  },
  {
   "cell_type": "code",
   "execution_count": 120,
   "metadata": {},
   "outputs": [
    {
     "data": {
      "text/html": [
       "<div>\n",
       "<style scoped>\n",
       "    .dataframe tbody tr th:only-of-type {\n",
       "        vertical-align: middle;\n",
       "    }\n",
       "\n",
       "    .dataframe tbody tr th {\n",
       "        vertical-align: top;\n",
       "    }\n",
       "\n",
       "    .dataframe thead th {\n",
       "        text-align: right;\n",
       "    }\n",
       "</style>\n",
       "<table border=\"1\" class=\"dataframe\">\n",
       "  <thead>\n",
       "    <tr style=\"text-align: right;\">\n",
       "      <th></th>\n",
       "      <th>so2</th>\n",
       "      <th>no2</th>\n",
       "      <th>rspm</th>\n",
       "      <th>spm</th>\n",
       "    </tr>\n",
       "  </thead>\n",
       "  <tbody>\n",
       "    <tr>\n",
       "      <th>360294</th>\n",
       "      <td>4.000000</td>\n",
       "      <td>24.0</td>\n",
       "      <td>23.000000</td>\n",
       "      <td>126.729064</td>\n",
       "    </tr>\n",
       "    <tr>\n",
       "      <th>278096</th>\n",
       "      <td>5.800000</td>\n",
       "      <td>11.1</td>\n",
       "      <td>129.000000</td>\n",
       "      <td>262.000000</td>\n",
       "    </tr>\n",
       "    <tr>\n",
       "      <th>277941</th>\n",
       "      <td>2.900000</td>\n",
       "      <td>26.3</td>\n",
       "      <td>72.000000</td>\n",
       "      <td>140.000000</td>\n",
       "    </tr>\n",
       "    <tr>\n",
       "      <th>269637</th>\n",
       "      <td>18.300000</td>\n",
       "      <td>28.6</td>\n",
       "      <td>83.619824</td>\n",
       "      <td>155.000000</td>\n",
       "    </tr>\n",
       "    <tr>\n",
       "      <th>272765</th>\n",
       "      <td>5.275874</td>\n",
       "      <td>12.7</td>\n",
       "      <td>80.000000</td>\n",
       "      <td>176.000000</td>\n",
       "    </tr>\n",
       "  </tbody>\n",
       "</table>\n",
       "</div>"
      ],
      "text/plain": [
       "              so2   no2        rspm         spm\n",
       "360294   4.000000  24.0   23.000000  126.729064\n",
       "278096   5.800000  11.1  129.000000  262.000000\n",
       "277941   2.900000  26.3   72.000000  140.000000\n",
       "269637  18.300000  28.6   83.619824  155.000000\n",
       "272765   5.275874  12.7   80.000000  176.000000"
      ]
     },
     "execution_count": 120,
     "metadata": {},
     "output_type": "execute_result"
    }
   ],
   "source": [
    "X_train3.head()"
   ]
  },
  {
   "cell_type": "code",
   "execution_count": 121,
   "metadata": {},
   "outputs": [
    {
     "name": "stderr",
     "output_type": "stream",
     "text": [
      "C:\\Python39\\lib\\site-packages\\sklearn\\base.py:450: UserWarning: X does not have valid feature names, but RandomForestClassifier was fitted with feature names\n",
      "  warnings.warn(\n"
     ]
    },
    {
     "data": {
      "text/plain": [
       "array(['Very Unhealthy'], dtype=object)"
      ]
     },
     "execution_count": 121,
     "metadata": {},
     "output_type": "execute_result"
    }
   ],
   "source": [
    "model.predict([[2.059,8.94,102,256]])"
   ]
  }
 ],
 "metadata": {
  "interpreter": {
   "hash": "63fd5069d213b44bf678585dea6b12cceca9941eaf7f819626cde1f2670de90d"
  },
  "kernelspec": {
   "display_name": "Python 3.9.6 64-bit",
   "language": "python",
   "name": "python3"
  },
  "language_info": {
   "codemirror_mode": {
    "name": "ipython",
    "version": 3
   },
   "file_extension": ".py",
   "mimetype": "text/x-python",
   "name": "python",
   "nbconvert_exporter": "python",
   "pygments_lexer": "ipython3",
   "version": "3.9.6"
  },
  "orig_nbformat": 4
 },
 "nbformat": 4,
 "nbformat_minor": 2
}
